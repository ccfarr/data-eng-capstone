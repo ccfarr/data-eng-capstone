{
 "cells": [
  {
   "cell_type": "code",
   "execution_count": 1,
   "metadata": {},
   "outputs": [
    {
     "data": {
      "application/vnd.jupyter.widget-view+json": {
       "model_id": "696caa3373a3447494e945de2e4d0d7f",
       "version_major": 2,
       "version_minor": 0
      },
      "text/plain": [
       "VBox()"
      ]
     },
     "metadata": {},
     "output_type": "display_data"
    },
    {
     "name": "stdout",
     "output_type": "stream",
     "text": [
      "Starting Spark application\n"
     ]
    },
    {
     "data": {
      "text/html": [
       "<table>\n",
       "<tr><th>ID</th><th>YARN Application ID</th><th>Kind</th><th>State</th><th>Spark UI</th><th>Driver log</th><th>Current session?</th></tr><tr><td>2</td><td>application_1591474036744_0004</td><td>pyspark</td><td>idle</td><td><a target=\"_blank\" href=\"http://ip-172-31-37-254.us-east-2.compute.internal:20888/proxy/application_1591474036744_0004/\">Link</a></td><td><a target=\"_blank\" href=\"http://ip-172-31-41-189.us-east-2.compute.internal:8042/node/containerlogs/container_1591474036744_0004_01_000001/livy\">Link</a></td><td>✔</td></tr></table>"
      ],
      "text/plain": [
       "<IPython.core.display.HTML object>"
      ]
     },
     "metadata": {},
     "output_type": "display_data"
    },
    {
     "data": {
      "application/vnd.jupyter.widget-view+json": {
       "model_id": "",
       "version_major": 2,
       "version_minor": 0
      },
      "text/plain": [
       "FloatProgress(value=0.0, bar_style='info', description='Progress:', layout=Layout(height='25px', width='50%'),…"
      ]
     },
     "metadata": {},
     "output_type": "display_data"
    },
    {
     "name": "stdout",
     "output_type": "stream",
     "text": [
      "SparkSession available as 'spark'.\n"
     ]
    },
    {
     "data": {
      "application/vnd.jupyter.widget-view+json": {
       "model_id": "",
       "version_major": 2,
       "version_minor": 0
      },
      "text/plain": [
       "FloatProgress(value=0.0, bar_style='info', description='Progress:', layout=Layout(height='25px', width='50%'),…"
      ]
     },
     "metadata": {},
     "output_type": "display_data"
    }
   ],
   "source": [
    "from pyspark.sql import SparkSession\n",
    "import pyspark.sql.functions as F"
   ]
  },
  {
   "cell_type": "code",
   "execution_count": 2,
   "metadata": {},
   "outputs": [
    {
     "data": {
      "application/vnd.jupyter.widget-view+json": {
       "model_id": "fb8d54f99a784d1fb2e62e6ac4aaa2d1",
       "version_major": 2,
       "version_minor": 0
      },
      "text/plain": [
       "VBox()"
      ]
     },
     "metadata": {},
     "output_type": "display_data"
    },
    {
     "data": {
      "application/vnd.jupyter.widget-view+json": {
       "model_id": "",
       "version_major": 2,
       "version_minor": 0
      },
      "text/plain": [
       "FloatProgress(value=0.0, bar_style='info', description='Progress:', layout=Layout(height='25px', width='50%'),…"
      ]
     },
     "metadata": {},
     "output_type": "display_data"
    }
   ],
   "source": [
    "spark = SparkSession.builder.getOrCreate()"
   ]
  },
  {
   "cell_type": "code",
   "execution_count": 3,
   "metadata": {},
   "outputs": [
    {
     "data": {
      "application/vnd.jupyter.widget-view+json": {
       "model_id": "f57ee60601b44ba2bc10beff0d8666d2",
       "version_major": 2,
       "version_minor": 0
      },
      "text/plain": [
       "VBox()"
      ]
     },
     "metadata": {},
     "output_type": "display_data"
    },
    {
     "data": {
      "application/vnd.jupyter.widget-view+json": {
       "model_id": "",
       "version_major": 2,
       "version_minor": 0
      },
      "text/plain": [
       "FloatProgress(value=0.0, bar_style='info', description='Progress:', layout=Layout(height='25px', width='50%'),…"
      ]
     },
     "metadata": {},
     "output_type": "display_data"
    }
   ],
   "source": [
    "df_cow = spark.read.parquet('s3://data-eng-capstone-cf/production/dim_countries_of_the_world')"
   ]
  },
  {
   "cell_type": "code",
   "execution_count": 4,
   "metadata": {},
   "outputs": [
    {
     "data": {
      "application/vnd.jupyter.widget-view+json": {
       "model_id": "b7ad2b27675247789ecefec4edf30961",
       "version_major": 2,
       "version_minor": 0
      },
      "text/plain": [
       "VBox()"
      ]
     },
     "metadata": {},
     "output_type": "display_data"
    },
    {
     "data": {
      "application/vnd.jupyter.widget-view+json": {
       "model_id": "",
       "version_major": 2,
       "version_minor": 0
      },
      "text/plain": [
       "FloatProgress(value=0.0, bar_style='info', description='Progress:', layout=Layout(height='25px', width='50%'),…"
      ]
     },
     "metadata": {},
     "output_type": "display_data"
    },
    {
     "name": "stdout",
     "output_type": "stream",
     "text": [
      "227"
     ]
    }
   ],
   "source": [
    "df_cow.count()"
   ]
  },
  {
   "cell_type": "code",
   "execution_count": 5,
   "metadata": {},
   "outputs": [
    {
     "data": {
      "application/vnd.jupyter.widget-view+json": {
       "model_id": "c94c76aff46646468f7859d83f963f2e",
       "version_major": 2,
       "version_minor": 0
      },
      "text/plain": [
       "VBox()"
      ]
     },
     "metadata": {},
     "output_type": "display_data"
    },
    {
     "data": {
      "application/vnd.jupyter.widget-view+json": {
       "model_id": "",
       "version_major": 2,
       "version_minor": 0
      },
      "text/plain": [
       "FloatProgress(value=0.0, bar_style='info', description='Progress:', layout=Layout(height='25px', width='50%'),…"
      ]
     },
     "metadata": {},
     "output_type": "display_data"
    },
    {
     "name": "stdout",
     "output_type": "stream",
     "text": [
      "root\n",
      " |-- country: string (nullable = true)\n",
      " |-- region: string (nullable = true)\n",
      " |-- population: integer (nullable = true)\n",
      " |-- gdp_dol_per_capita: integer (nullable = true)"
     ]
    }
   ],
   "source": [
    "df_cow.printSchema()"
   ]
  },
  {
   "cell_type": "code",
   "execution_count": 6,
   "metadata": {},
   "outputs": [
    {
     "data": {
      "application/vnd.jupyter.widget-view+json": {
       "model_id": "7b980f2793f94203ad7e9704360413b3",
       "version_major": 2,
       "version_minor": 0
      },
      "text/plain": [
       "VBox()"
      ]
     },
     "metadata": {},
     "output_type": "display_data"
    },
    {
     "data": {
      "application/vnd.jupyter.widget-view+json": {
       "model_id": "",
       "version_major": 2,
       "version_minor": 0
      },
      "text/plain": [
       "FloatProgress(value=0.0, bar_style='info', description='Progress:', layout=Layout(height='25px', width='50%'),…"
      ]
     },
     "metadata": {},
     "output_type": "display_data"
    },
    {
     "name": "stdout",
     "output_type": "stream",
     "text": [
      "+-----------------+--------------------+----------+------------------+\n",
      "|          country|              region|population|gdp_dol_per_capita|\n",
      "+-----------------+--------------------+----------+------------------+\n",
      "|      Afghanistan|ASIA (EX. NEAR EAST)|  31056997|               700|\n",
      "|          Albania|      EASTERN EUROPE|   3581655|              4500|\n",
      "|          Algeria|     NORTHERN AFRICA|  32930091|              6000|\n",
      "|   American Samoa|             OCEANIA|     57794|              8000|\n",
      "|          Andorra|      WESTERN EUROPE|     71201|             19000|\n",
      "|           Angola|  SUB-SAHARAN AFRICA|  12127071|              1900|\n",
      "|         Anguilla| LATIN AMER. & CARIB|     13477|              8600|\n",
      "|Antigua & Barbuda| LATIN AMER. & CARIB|     69108|             11000|\n",
      "|        Argentina| LATIN AMER. & CARIB|  39921833|             11200|\n",
      "|          Armenia| C.W. OF IND. STATES|   2976372|              3500|\n",
      "|            Aruba| LATIN AMER. & CARIB|     71891|             28000|\n",
      "|        Australia|             OCEANIA|  20264082|             29000|\n",
      "|          Austria|      WESTERN EUROPE|   8192880|             30000|\n",
      "|       Azerbaijan| C.W. OF IND. STATES|   7961619|              3400|\n",
      "|     Bahamas, The| LATIN AMER. & CARIB|    303770|             16700|\n",
      "|          Bahrain|           NEAR EAST|    698585|             16900|\n",
      "|       Bangladesh|ASIA (EX. NEAR EAST)| 147365352|              1900|\n",
      "|         Barbados| LATIN AMER. & CARIB|    279912|             15700|\n",
      "|          Belarus| C.W. OF IND. STATES|  10293011|              6100|\n",
      "|          Belgium|      WESTERN EUROPE|  10379067|             29100|\n",
      "+-----------------+--------------------+----------+------------------+\n",
      "only showing top 20 rows"
     ]
    }
   ],
   "source": [
    "df_cow.show()"
   ]
  },
  {
   "cell_type": "code",
   "execution_count": 7,
   "metadata": {},
   "outputs": [
    {
     "data": {
      "application/vnd.jupyter.widget-view+json": {
       "model_id": "488a548d92b14df396c8544fa5ae8f33",
       "version_major": 2,
       "version_minor": 0
      },
      "text/plain": [
       "VBox()"
      ]
     },
     "metadata": {},
     "output_type": "display_data"
    },
    {
     "data": {
      "application/vnd.jupyter.widget-view+json": {
       "model_id": "",
       "version_major": 2,
       "version_minor": 0
      },
      "text/plain": [
       "FloatProgress(value=0.0, bar_style='info', description='Progress:', layout=Layout(height='25px', width='50%'),…"
      ]
     },
     "metadata": {},
     "output_type": "display_data"
    }
   ],
   "source": [
    "df_fact = spark.read.parquet('s3://data-eng-capstone-cf/production/fact_i94')"
   ]
  },
  {
   "cell_type": "code",
   "execution_count": 8,
   "metadata": {},
   "outputs": [
    {
     "data": {
      "application/vnd.jupyter.widget-view+json": {
       "model_id": "cb67990de8da41c4815e0c8119ca2fd3",
       "version_major": 2,
       "version_minor": 0
      },
      "text/plain": [
       "VBox()"
      ]
     },
     "metadata": {},
     "output_type": "display_data"
    },
    {
     "data": {
      "application/vnd.jupyter.widget-view+json": {
       "model_id": "",
       "version_major": 2,
       "version_minor": 0
      },
      "text/plain": [
       "FloatProgress(value=0.0, bar_style='info', description='Progress:', layout=Layout(height='25px', width='50%'),…"
      ]
     },
     "metadata": {},
     "output_type": "display_data"
    },
    {
     "name": "stdout",
     "output_type": "stream",
     "text": [
      "root\n",
      " |-- i94bir: integer (nullable = true)\n",
      " |-- visatype: string (nullable = true)\n",
      " |-- visitor_count: long (nullable = true)\n",
      " |-- country_fk: string (nullable = true)\n",
      " |-- i94mode: string (nullable = true)\n",
      " |-- i94visa: string (nullable = true)\n",
      " |-- i94mon: integer (nullable = true)\n",
      " |-- i94res: string (nullable = true)"
     ]
    }
   ],
   "source": [
    "df_fact.printSchema()"
   ]
  },
  {
   "cell_type": "code",
   "execution_count": 9,
   "metadata": {},
   "outputs": [
    {
     "data": {
      "application/vnd.jupyter.widget-view+json": {
       "model_id": "6d2d9715d20b498786722a2d1b901c60",
       "version_major": 2,
       "version_minor": 0
      },
      "text/plain": [
       "VBox()"
      ]
     },
     "metadata": {},
     "output_type": "display_data"
    },
    {
     "data": {
      "application/vnd.jupyter.widget-view+json": {
       "model_id": "",
       "version_major": 2,
       "version_minor": 0
      },
      "text/plain": [
       "FloatProgress(value=0.0, bar_style='info', description='Progress:', layout=Layout(height='25px', width='50%'),…"
      ]
     },
     "metadata": {},
     "output_type": "display_data"
    },
    {
     "name": "stdout",
     "output_type": "stream",
     "text": [
      "740595"
     ]
    }
   ],
   "source": [
    "df_fact.count()"
   ]
  },
  {
   "cell_type": "code",
   "execution_count": 11,
   "metadata": {},
   "outputs": [
    {
     "data": {
      "application/vnd.jupyter.widget-view+json": {
       "model_id": "28dd13c223934557afef73df9b065b8f",
       "version_major": 2,
       "version_minor": 0
      },
      "text/plain": [
       "VBox()"
      ]
     },
     "metadata": {},
     "output_type": "display_data"
    },
    {
     "data": {
      "application/vnd.jupyter.widget-view+json": {
       "model_id": "",
       "version_major": 2,
       "version_minor": 0
      },
      "text/plain": [
       "FloatProgress(value=0.0, bar_style='info', description='Progress:', layout=Layout(height='25px', width='50%'),…"
      ]
     },
     "metadata": {},
     "output_type": "display_data"
    },
    {
     "name": "stdout",
     "output_type": "stream",
     "text": [
      "+------------------+\n",
      "|sum(visitor_count)|\n",
      "+------------------+\n",
      "|          40790529|\n",
      "+------------------+"
     ]
    }
   ],
   "source": [
    "df_fact.select(F.sum('visitor_count')).show()"
   ]
  },
  {
   "cell_type": "code",
   "execution_count": 12,
   "metadata": {},
   "outputs": [
    {
     "data": {
      "application/vnd.jupyter.widget-view+json": {
       "model_id": "b60eb04749744625a75949087acd402d",
       "version_major": 2,
       "version_minor": 0
      },
      "text/plain": [
       "VBox()"
      ]
     },
     "metadata": {},
     "output_type": "display_data"
    },
    {
     "data": {
      "application/vnd.jupyter.widget-view+json": {
       "model_id": "",
       "version_major": 2,
       "version_minor": 0
      },
      "text/plain": [
       "FloatProgress(value=0.0, bar_style='info', description='Progress:', layout=Layout(height='25px', width='50%'),…"
      ]
     },
     "metadata": {},
     "output_type": "display_data"
    },
    {
     "name": "stdout",
     "output_type": "stream",
     "text": [
      "+------+--------+-------------+------------+-------+--------+------+-----------+\n",
      "|i94bir|visatype|visitor_count|  country_fk|i94mode| i94visa|i94mon|     i94res|\n",
      "+------+--------+-------------+------------+-------+--------+------+-----------+\n",
      "|    41|      E2|            7|Korea, South|   Land|Business|     4|SOUTH KOREA|\n",
      "|    45|      F1|            6|Korea, South|    Air| Student|     4|SOUTH KOREA|\n",
      "|    21|      B2|            8|Korea, South|    Air|Pleasure|     4|SOUTH KOREA|\n",
      "|    17|      WB|            5|Korea, South|    Air|Business|     4|SOUTH KOREA|\n",
      "|    74|      WB|            4|Korea, South|    Air|Business|     4|SOUTH KOREA|\n",
      "+------+--------+-------------+------------+-------+--------+------+-----------+\n",
      "only showing top 5 rows"
     ]
    }
   ],
   "source": [
    "df_fact.show(5)"
   ]
  },
  {
   "cell_type": "code",
   "execution_count": 13,
   "metadata": {},
   "outputs": [
    {
     "data": {
      "application/vnd.jupyter.widget-view+json": {
       "model_id": "a59fdc145a2340afa873919c3289f613",
       "version_major": 2,
       "version_minor": 0
      },
      "text/plain": [
       "VBox()"
      ]
     },
     "metadata": {},
     "output_type": "display_data"
    },
    {
     "data": {
      "application/vnd.jupyter.widget-view+json": {
       "model_id": "",
       "version_major": 2,
       "version_minor": 0
      },
      "text/plain": [
       "FloatProgress(value=0.0, bar_style='info', description='Progress:', layout=Layout(height='25px', width='50%'),…"
      ]
     },
     "metadata": {},
     "output_type": "display_data"
    }
   ],
   "source": [
    "# I-94 Arrivals by Country of Residence (COR) and Month\n",
    "# Exludes Mexico to focus on Overseas countries\n",
    "df_analysis = df_fact.filter(~df_fact.i94res.contains('MEXICO')) \\\n",
    "                     .groupBy('i94res') \\\n",
    "                     .sum('visitor_count') \\\n",
    "                     .orderBy(F.desc('sum(visitor_count)'))"
   ]
  },
  {
   "cell_type": "code",
   "execution_count": 14,
   "metadata": {},
   "outputs": [
    {
     "data": {
      "application/vnd.jupyter.widget-view+json": {
       "model_id": "f2afcfdbfa774ad7970e2c14a91b87d3",
       "version_major": 2,
       "version_minor": 0
      },
      "text/plain": [
       "VBox()"
      ]
     },
     "metadata": {},
     "output_type": "display_data"
    },
    {
     "data": {
      "application/vnd.jupyter.widget-view+json": {
       "model_id": "",
       "version_major": 2,
       "version_minor": 0
      },
      "text/plain": [
       "FloatProgress(value=0.0, bar_style='info', description='Progress:', layout=Layout(height='25px', width='50%'),…"
      ]
     },
     "metadata": {},
     "output_type": "display_data"
    },
    {
     "name": "stdout",
     "output_type": "stream",
     "text": [
      "+--------------+------------------+\n",
      "|        i94res|sum(visitor_count)|\n",
      "+--------------+------------------+\n",
      "|UNITED KINGDOM|           4587092|\n",
      "|         JAPAN|           3603786|\n",
      "|    CHINA, PRC|           3049942|\n",
      "|       GERMANY|           2046288|\n",
      "|   SOUTH KOREA|           1982516|\n",
      "|        BRAZIL|           1725479|\n",
      "|        FRANCE|           1641152|\n",
      "|     AUSTRALIA|           1350508|\n",
      "|         INDIA|           1206771|\n",
      "|         ITALY|            988860|\n",
      "|     ARGENTINA|            926321|\n",
      "|      COLOMBIA|            852618|\n",
      "|         SPAIN|            807447|\n",
      "|   NETHERLANDS|            674544|\n",
      "|     VENEZUELA|            589848|\n",
      "|        SWEDEN|            560581|\n",
      "|   SWITZERLAND|            471070|\n",
      "|        TAIWAN|            466267|\n",
      "|       IRELAND|            443005|\n",
      "|        ISRAEL|            425085|\n",
      "+--------------+------------------+\n",
      "only showing top 20 rows"
     ]
    }
   ],
   "source": [
    "df_analysis.show()"
   ]
  },
  {
   "cell_type": "code",
   "execution_count": 15,
   "metadata": {},
   "outputs": [
    {
     "data": {
      "application/vnd.jupyter.widget-view+json": {
       "model_id": "f3f18b3af78047d6a09f3aa87d76fd63",
       "version_major": 2,
       "version_minor": 0
      },
      "text/plain": [
       "VBox()"
      ]
     },
     "metadata": {},
     "output_type": "display_data"
    },
    {
     "data": {
      "application/vnd.jupyter.widget-view+json": {
       "model_id": "",
       "version_major": 2,
       "version_minor": 0
      },
      "text/plain": [
       "FloatProgress(value=0.0, bar_style='info', description='Progress:', layout=Layout(height='25px', width='50%'),…"
      ]
     },
     "metadata": {},
     "output_type": "display_data"
    }
   ],
   "source": [
    "# Join fact table with dimension table, inner join\n",
    "df_join = df_fact.join(df_cow, df_fact.country_fk == df_cow.country, how='inner')"
   ]
  },
  {
   "cell_type": "code",
   "execution_count": 30,
   "metadata": {},
   "outputs": [
    {
     "data": {
      "application/vnd.jupyter.widget-view+json": {
       "model_id": "d9715f96eff84d028bb1aea29430c032",
       "version_major": 2,
       "version_minor": 0
      },
      "text/plain": [
       "VBox()"
      ]
     },
     "metadata": {},
     "output_type": "display_data"
    },
    {
     "data": {
      "application/vnd.jupyter.widget-view+json": {
       "model_id": "",
       "version_major": 2,
       "version_minor": 0
      },
      "text/plain": [
       "FloatProgress(value=0.0, bar_style='info', description='Progress:', layout=Layout(height='25px', width='50%'),…"
      ]
     },
     "metadata": {},
     "output_type": "display_data"
    }
   ],
   "source": [
    "df_analysis2 = df_join.filter(~df_join.i94res.contains('MEXICO')) \\\n",
    "                      .groupBy('country', 'region') \\\n",
    "                      .agg(F.sum('visitor_count').alias('visitor_count'),\n",
    "                           F.avg('population').alias('population'),\n",
    "                           F.avg('gdp_dol_per_capita').alias('gdp_dol_per_capita')) \\\n",
    "                      .select(F.col('country'),\n",
    "                              F.col('region'),\n",
    "                              F.col('visitor_count'),\n",
    "                              (F.col('population')/1000).alias('pop_in_thousands'),\n",
    "                              (F.col('visitor_count')/(F.col('population')/1000)).alias('visitor_count_per_thousand'),\n",
    "                              F.col('gdp_dol_per_capita')) \\\n",
    "                      .orderBy(F.desc('visitor_count'))"
   ]
  },
  {
   "cell_type": "code",
   "execution_count": 31,
   "metadata": {},
   "outputs": [
    {
     "data": {
      "application/vnd.jupyter.widget-view+json": {
       "model_id": "2837771c9c8744bdb2b85a303b730739",
       "version_major": 2,
       "version_minor": 0
      },
      "text/plain": [
       "VBox()"
      ]
     },
     "metadata": {},
     "output_type": "display_data"
    },
    {
     "data": {
      "application/vnd.jupyter.widget-view+json": {
       "model_id": "",
       "version_major": 2,
       "version_minor": 0
      },
      "text/plain": [
       "FloatProgress(value=0.0, bar_style='info', description='Progress:', layout=Layout(height='25px', width='50%'),…"
      ]
     },
     "metadata": {},
     "output_type": "display_data"
    },
    {
     "name": "stdout",
     "output_type": "stream",
     "text": [
      "+--------------+--------------------+-------------+----------------+--------------------------+------------------+\n",
      "|       country|              region|visitor_count|pop_in_thousands|visitor_count_per_thousand|gdp_dol_per_capita|\n",
      "+--------------+--------------------+-------------+----------------+--------------------------+------------------+\n",
      "|United Kingdom|      WESTERN EUROPE|    4,587,092|          60,609|                   75.6832|            27,700|\n",
      "|         Japan|ASIA (EX. NEAR EAST)|    3,603,786|         127,464|                   28.2731|            28,200|\n",
      "|         China|ASIA (EX. NEAR EAST)|    3,049,942|       1,313,974|                    2.3212|             5,000|\n",
      "|       Germany|      WESTERN EUROPE|    2,046,288|          82,422|                   24.8269|            27,600|\n",
      "|  Korea, South|ASIA (EX. NEAR EAST)|    1,982,516|          48,847|                   40.5864|            17,800|\n",
      "|        Brazil| LATIN AMER. & CARIB|    1,725,479|         188,078|                    9.1743|             7,600|\n",
      "|        France|      WESTERN EUROPE|    1,641,152|          60,876|                   26.9589|            27,600|\n",
      "|     Australia|             OCEANIA|    1,350,508|          20,264|                   66.6454|            29,000|\n",
      "|         India|ASIA (EX. NEAR EAST)|    1,206,771|       1,095,352|                    1.1017|             2,900|\n",
      "|         Italy|      WESTERN EUROPE|      988,860|          58,134|                   17.0102|            26,700|\n",
      "|     Argentina| LATIN AMER. & CARIB|      926,321|          39,922|                   23.2034|            11,200|\n",
      "|      Colombia| LATIN AMER. & CARIB|      852,618|          43,593|                   19.5586|             6,300|\n",
      "|         Spain|      WESTERN EUROPE|      807,447|          40,398|                   19.9874|            22,000|\n",
      "|   Netherlands|      WESTERN EUROPE|      674,544|          16,491|                   40.9026|            28,600|\n",
      "|     Venezuela| LATIN AMER. & CARIB|      589,848|          25,730|                   22.9241|             4,800|\n",
      "|        Sweden|      WESTERN EUROPE|      560,581|           9,017|                   62.1721|            26,800|\n",
      "|   Switzerland|      WESTERN EUROPE|      471,070|           7,524|                   62.6095|            32,700|\n",
      "|        Taiwan|ASIA (EX. NEAR EAST)|      466,267|          23,036|                   20.2407|            23,400|\n",
      "|       Ireland|      WESTERN EUROPE|      443,005|           4,062|                  109.0545|            29,600|\n",
      "|        Israel|           NEAR EAST|      425,085|           6,352|                   66.9202|            19,800|\n",
      "+--------------+--------------------+-------------+----------------+--------------------------+------------------+\n",
      "only showing top 20 rows"
     ]
    }
   ],
   "source": [
    "# What is the population for top countries?\n",
    "# What is the visitor count relative to the country's population?\n",
    "# What is the GDP per capita for top countries?\n",
    "df_analysis2.select(F.col('country'),\n",
    "                    F.col('region'),\n",
    "                    F.format_number('visitor_count',0).alias('visitor_count'),\n",
    "                    F.format_number('pop_in_thousands',0).alias('pop_in_thousands'),\n",
    "                    F.format_number('visitor_count_per_thousand',4).alias('visitor_count_per_thousand'),\n",
    "                    F.format_number('gdp_dol_per_capita',0).alias('gdp_dol_per_capita')) \\\n",
    "            .show()"
   ]
  }
 ],
 "metadata": {
  "kernelspec": {
   "display_name": "PySpark",
   "language": "",
   "name": "pysparkkernel"
  },
  "language_info": {
   "codemirror_mode": {
    "name": "python",
    "version": 2
   },
   "mimetype": "text/x-python",
   "name": "pyspark",
   "pygments_lexer": "python2"
  }
 },
 "nbformat": 4,
 "nbformat_minor": 4
}
