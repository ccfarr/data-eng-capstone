{
 "cells": [
  {
   "cell_type": "code",
   "execution_count": 1,
   "metadata": {},
   "outputs": [
    {
     "data": {
      "application/vnd.jupyter.widget-view+json": {
       "model_id": "d7814fda1a37431e946581ce8c3bb644",
       "version_major": 2,
       "version_minor": 0
      },
      "text/plain": [
       "VBox()"
      ]
     },
     "metadata": {},
     "output_type": "display_data"
    },
    {
     "name": "stdout",
     "output_type": "stream",
     "text": [
      "Starting Spark application\n"
     ]
    },
    {
     "data": {
      "text/html": [
       "<table>\n",
       "<tr><th>ID</th><th>YARN Application ID</th><th>Kind</th><th>State</th><th>Spark UI</th><th>Driver log</th><th>Current session?</th></tr><tr><td>1</td><td>application_1591474036744_0003</td><td>pyspark</td><td>idle</td><td><a target=\"_blank\" href=\"http://ip-172-31-37-254.us-east-2.compute.internal:20888/proxy/application_1591474036744_0003/\">Link</a></td><td><a target=\"_blank\" href=\"http://ip-172-31-41-189.us-east-2.compute.internal:8042/node/containerlogs/container_1591474036744_0003_01_000001/livy\">Link</a></td><td>✔</td></tr></table>"
      ],
      "text/plain": [
       "<IPython.core.display.HTML object>"
      ]
     },
     "metadata": {},
     "output_type": "display_data"
    },
    {
     "data": {
      "application/vnd.jupyter.widget-view+json": {
       "model_id": "",
       "version_major": 2,
       "version_minor": 0
      },
      "text/plain": [
       "FloatProgress(value=0.0, bar_style='info', description='Progress:', layout=Layout(height='25px', width='50%'),…"
      ]
     },
     "metadata": {},
     "output_type": "display_data"
    },
    {
     "name": "stdout",
     "output_type": "stream",
     "text": [
      "SparkSession available as 'spark'.\n"
     ]
    },
    {
     "data": {
      "application/vnd.jupyter.widget-view+json": {
       "model_id": "",
       "version_major": 2,
       "version_minor": 0
      },
      "text/plain": [
       "FloatProgress(value=0.0, bar_style='info', description='Progress:', layout=Layout(height='25px', width='50%'),…"
      ]
     },
     "metadata": {},
     "output_type": "display_data"
    }
   ],
   "source": [
    "from pyspark.sql import SparkSession\n",
    "import pyspark.sql.functions as F"
   ]
  },
  {
   "cell_type": "code",
   "execution_count": 2,
   "metadata": {},
   "outputs": [
    {
     "data": {
      "application/vnd.jupyter.widget-view+json": {
       "model_id": "e0f49e935e88445087c48113bc55b1fc",
       "version_major": 2,
       "version_minor": 0
      },
      "text/plain": [
       "VBox()"
      ]
     },
     "metadata": {},
     "output_type": "display_data"
    },
    {
     "data": {
      "application/vnd.jupyter.widget-view+json": {
       "model_id": "",
       "version_major": 2,
       "version_minor": 0
      },
      "text/plain": [
       "FloatProgress(value=0.0, bar_style='info', description='Progress:', layout=Layout(height='25px', width='50%'),…"
      ]
     },
     "metadata": {},
     "output_type": "display_data"
    }
   ],
   "source": [
    "spark = SparkSession.builder.getOrCreate()"
   ]
  },
  {
   "cell_type": "code",
   "execution_count": 3,
   "metadata": {},
   "outputs": [
    {
     "data": {
      "application/vnd.jupyter.widget-view+json": {
       "model_id": "6aabd0e6e101427aba71822536610db1",
       "version_major": 2,
       "version_minor": 0
      },
      "text/plain": [
       "VBox()"
      ]
     },
     "metadata": {},
     "output_type": "display_data"
    },
    {
     "data": {
      "application/vnd.jupyter.widget-view+json": {
       "model_id": "",
       "version_major": 2,
       "version_minor": 0
      },
      "text/plain": [
       "FloatProgress(value=0.0, bar_style='info', description='Progress:', layout=Layout(height='25px', width='50%'),…"
      ]
     },
     "metadata": {},
     "output_type": "display_data"
    }
   ],
   "source": [
    "df_cow = spark.read.parquet('s3://data-eng-capstone-cf/production/dim_countries_of_the_world')"
   ]
  },
  {
   "cell_type": "code",
   "execution_count": 4,
   "metadata": {},
   "outputs": [
    {
     "data": {
      "application/vnd.jupyter.widget-view+json": {
       "model_id": "eea01dc46dbc431aa8d66d5d92b9f0bb",
       "version_major": 2,
       "version_minor": 0
      },
      "text/plain": [
       "VBox()"
      ]
     },
     "metadata": {},
     "output_type": "display_data"
    },
    {
     "data": {
      "application/vnd.jupyter.widget-view+json": {
       "model_id": "",
       "version_major": 2,
       "version_minor": 0
      },
      "text/plain": [
       "FloatProgress(value=0.0, bar_style='info', description='Progress:', layout=Layout(height='25px', width='50%'),…"
      ]
     },
     "metadata": {},
     "output_type": "display_data"
    },
    {
     "name": "stdout",
     "output_type": "stream",
     "text": [
      "227"
     ]
    }
   ],
   "source": [
    "df_cow.count()"
   ]
  },
  {
   "cell_type": "code",
   "execution_count": 5,
   "metadata": {},
   "outputs": [
    {
     "data": {
      "application/vnd.jupyter.widget-view+json": {
       "model_id": "92a32a8b517d49f385b1d2ded6a04903",
       "version_major": 2,
       "version_minor": 0
      },
      "text/plain": [
       "VBox()"
      ]
     },
     "metadata": {},
     "output_type": "display_data"
    },
    {
     "data": {
      "application/vnd.jupyter.widget-view+json": {
       "model_id": "",
       "version_major": 2,
       "version_minor": 0
      },
      "text/plain": [
       "FloatProgress(value=0.0, bar_style='info', description='Progress:', layout=Layout(height='25px', width='50%'),…"
      ]
     },
     "metadata": {},
     "output_type": "display_data"
    },
    {
     "name": "stdout",
     "output_type": "stream",
     "text": [
      "root\n",
      " |-- country: string (nullable = true)\n",
      " |-- region: string (nullable = true)\n",
      " |-- population: integer (nullable = true)\n",
      " |-- gdp_dol_per_capita: integer (nullable = true)"
     ]
    }
   ],
   "source": [
    "df_cow.printSchema()"
   ]
  },
  {
   "cell_type": "code",
   "execution_count": 6,
   "metadata": {},
   "outputs": [
    {
     "data": {
      "application/vnd.jupyter.widget-view+json": {
       "model_id": "9543dcd9de1144849dcd5394a6933beb",
       "version_major": 2,
       "version_minor": 0
      },
      "text/plain": [
       "VBox()"
      ]
     },
     "metadata": {},
     "output_type": "display_data"
    },
    {
     "data": {
      "application/vnd.jupyter.widget-view+json": {
       "model_id": "",
       "version_major": 2,
       "version_minor": 0
      },
      "text/plain": [
       "FloatProgress(value=0.0, bar_style='info', description='Progress:', layout=Layout(height='25px', width='50%'),…"
      ]
     },
     "metadata": {},
     "output_type": "display_data"
    },
    {
     "name": "stdout",
     "output_type": "stream",
     "text": [
      "+-----------------+--------------------+----------+------------------+\n",
      "|          country|              region|population|gdp_dol_per_capita|\n",
      "+-----------------+--------------------+----------+------------------+\n",
      "|      Afghanistan|ASIA (EX. NEAR EAST)|  31056997|               700|\n",
      "|          Albania|      EASTERN EUROPE|   3581655|              4500|\n",
      "|          Algeria|     NORTHERN AFRICA|  32930091|              6000|\n",
      "|   American Samoa|             OCEANIA|     57794|              8000|\n",
      "|          Andorra|      WESTERN EUROPE|     71201|             19000|\n",
      "|           Angola|  SUB-SAHARAN AFRICA|  12127071|              1900|\n",
      "|         Anguilla| LATIN AMER. & CARIB|     13477|              8600|\n",
      "|Antigua & Barbuda| LATIN AMER. & CARIB|     69108|             11000|\n",
      "|        Argentina| LATIN AMER. & CARIB|  39921833|             11200|\n",
      "|          Armenia| C.W. OF IND. STATES|   2976372|              3500|\n",
      "|            Aruba| LATIN AMER. & CARIB|     71891|             28000|\n",
      "|        Australia|             OCEANIA|  20264082|             29000|\n",
      "|          Austria|      WESTERN EUROPE|   8192880|             30000|\n",
      "|       Azerbaijan| C.W. OF IND. STATES|   7961619|              3400|\n",
      "|     Bahamas, The| LATIN AMER. & CARIB|    303770|             16700|\n",
      "|          Bahrain|           NEAR EAST|    698585|             16900|\n",
      "|       Bangladesh|ASIA (EX. NEAR EAST)| 147365352|              1900|\n",
      "|         Barbados| LATIN AMER. & CARIB|    279912|             15700|\n",
      "|          Belarus| C.W. OF IND. STATES|  10293011|              6100|\n",
      "|          Belgium|      WESTERN EUROPE|  10379067|             29100|\n",
      "+-----------------+--------------------+----------+------------------+\n",
      "only showing top 20 rows"
     ]
    }
   ],
   "source": [
    "df_cow.show()"
   ]
  },
  {
   "cell_type": "code",
   "execution_count": 7,
   "metadata": {},
   "outputs": [
    {
     "data": {
      "application/vnd.jupyter.widget-view+json": {
       "model_id": "58f3835b876c4d0db1949cd572d3021f",
       "version_major": 2,
       "version_minor": 0
      },
      "text/plain": [
       "VBox()"
      ]
     },
     "metadata": {},
     "output_type": "display_data"
    },
    {
     "data": {
      "application/vnd.jupyter.widget-view+json": {
       "model_id": "",
       "version_major": 2,
       "version_minor": 0
      },
      "text/plain": [
       "FloatProgress(value=0.0, bar_style='info', description='Progress:', layout=Layout(height='25px', width='50%'),…"
      ]
     },
     "metadata": {},
     "output_type": "display_data"
    }
   ],
   "source": [
    "df_fact = spark.read.parquet('s3://data-eng-capstone-cf/production/fact_i94')"
   ]
  },
  {
   "cell_type": "code",
   "execution_count": 8,
   "metadata": {},
   "outputs": [
    {
     "data": {
      "application/vnd.jupyter.widget-view+json": {
       "model_id": "597bff6dbd414fcab105dee56fcaef85",
       "version_major": 2,
       "version_minor": 0
      },
      "text/plain": [
       "VBox()"
      ]
     },
     "metadata": {},
     "output_type": "display_data"
    },
    {
     "data": {
      "application/vnd.jupyter.widget-view+json": {
       "model_id": "",
       "version_major": 2,
       "version_minor": 0
      },
      "text/plain": [
       "FloatProgress(value=0.0, bar_style='info', description='Progress:', layout=Layout(height='25px', width='50%'),…"
      ]
     },
     "metadata": {},
     "output_type": "display_data"
    },
    {
     "name": "stdout",
     "output_type": "stream",
     "text": [
      "740595"
     ]
    }
   ],
   "source": [
    "df_fact.count()"
   ]
  },
  {
   "cell_type": "code",
   "execution_count": 9,
   "metadata": {},
   "outputs": [
    {
     "data": {
      "application/vnd.jupyter.widget-view+json": {
       "model_id": "3492bb42f0e542bb8fe32d8df77097e6",
       "version_major": 2,
       "version_minor": 0
      },
      "text/plain": [
       "VBox()"
      ]
     },
     "metadata": {},
     "output_type": "display_data"
    },
    {
     "data": {
      "application/vnd.jupyter.widget-view+json": {
       "model_id": "",
       "version_major": 2,
       "version_minor": 0
      },
      "text/plain": [
       "FloatProgress(value=0.0, bar_style='info', description='Progress:', layout=Layout(height='25px', width='50%'),…"
      ]
     },
     "metadata": {},
     "output_type": "display_data"
    },
    {
     "name": "stdout",
     "output_type": "stream",
     "text": [
      "root\n",
      " |-- i94bir: integer (nullable = true)\n",
      " |-- visatype: string (nullable = true)\n",
      " |-- visitor_count: long (nullable = true)\n",
      " |-- country_fk: string (nullable = true)\n",
      " |-- i94mode: string (nullable = true)\n",
      " |-- i94visa: string (nullable = true)\n",
      " |-- i94mon: integer (nullable = true)\n",
      " |-- i94res: string (nullable = true)"
     ]
    }
   ],
   "source": [
    "df_fact.printSchema()"
   ]
  },
  {
   "cell_type": "code",
   "execution_count": 10,
   "metadata": {},
   "outputs": [
    {
     "data": {
      "application/vnd.jupyter.widget-view+json": {
       "model_id": "1a7ad7fe4a884eb6840437287c65da60",
       "version_major": 2,
       "version_minor": 0
      },
      "text/plain": [
       "VBox()"
      ]
     },
     "metadata": {},
     "output_type": "display_data"
    },
    {
     "data": {
      "application/vnd.jupyter.widget-view+json": {
       "model_id": "",
       "version_major": 2,
       "version_minor": 0
      },
      "text/plain": [
       "FloatProgress(value=0.0, bar_style='info', description='Progress:', layout=Layout(height='25px', width='50%'),…"
      ]
     },
     "metadata": {},
     "output_type": "display_data"
    },
    {
     "name": "stdout",
     "output_type": "stream",
     "text": [
      "+------+--------+-------------+------------+-------+--------+------+-----------+\n",
      "|i94bir|visatype|visitor_count|  country_fk|i94mode| i94visa|i94mon|     i94res|\n",
      "+------+--------+-------------+------------+-------+--------+------+-----------+\n",
      "|    41|      E2|            7|Korea, South|   Land|Business|     4|SOUTH KOREA|\n",
      "|    45|      F1|            6|Korea, South|    Air| Student|     4|SOUTH KOREA|\n",
      "|    21|      B2|            8|Korea, South|    Air|Pleasure|     4|SOUTH KOREA|\n",
      "|    17|      WB|            5|Korea, South|    Air|Business|     4|SOUTH KOREA|\n",
      "|    74|      WB|            4|Korea, South|    Air|Business|     4|SOUTH KOREA|\n",
      "+------+--------+-------------+------------+-------+--------+------+-----------+\n",
      "only showing top 5 rows"
     ]
    }
   ],
   "source": [
    "df_fact.show(5)"
   ]
  },
  {
   "cell_type": "code",
   "execution_count": 11,
   "metadata": {},
   "outputs": [
    {
     "data": {
      "application/vnd.jupyter.widget-view+json": {
       "model_id": "f3f54dfa07c64ef1956e4e4ab7c55bd9",
       "version_major": 2,
       "version_minor": 0
      },
      "text/plain": [
       "VBox()"
      ]
     },
     "metadata": {},
     "output_type": "display_data"
    },
    {
     "data": {
      "application/vnd.jupyter.widget-view+json": {
       "model_id": "",
       "version_major": 2,
       "version_minor": 0
      },
      "text/plain": [
       "FloatProgress(value=0.0, bar_style='info', description='Progress:', layout=Layout(height='25px', width='50%'),…"
      ]
     },
     "metadata": {},
     "output_type": "display_data"
    }
   ],
   "source": [
    "# I-94 Arrivals by Country of Residence (COR) and Month\n",
    "# Exludes Mexico to focus on Overseas countries\n",
    "df_analysis = df_fact.filter(~df_fact.i94res.contains('MEXICO')) \\\n",
    "                     .groupBy('i94res') \\\n",
    "                     .sum('visitor_count') \\\n",
    "                     .orderBy(F.desc('sum(visitor_count)'))"
   ]
  },
  {
   "cell_type": "code",
   "execution_count": 12,
   "metadata": {},
   "outputs": [
    {
     "data": {
      "application/vnd.jupyter.widget-view+json": {
       "model_id": "cfad3ae3126e466ba66c10c6de520de1",
       "version_major": 2,
       "version_minor": 0
      },
      "text/plain": [
       "VBox()"
      ]
     },
     "metadata": {},
     "output_type": "display_data"
    },
    {
     "data": {
      "application/vnd.jupyter.widget-view+json": {
       "model_id": "",
       "version_major": 2,
       "version_minor": 0
      },
      "text/plain": [
       "FloatProgress(value=0.0, bar_style='info', description='Progress:', layout=Layout(height='25px', width='50%'),…"
      ]
     },
     "metadata": {},
     "output_type": "display_data"
    },
    {
     "name": "stdout",
     "output_type": "stream",
     "text": [
      "+--------------+------------------+\n",
      "|        i94res|sum(visitor_count)|\n",
      "+--------------+------------------+\n",
      "|UNITED KINGDOM|           4587092|\n",
      "|         JAPAN|           3603786|\n",
      "|    CHINA, PRC|           3049942|\n",
      "|       GERMANY|           2046288|\n",
      "|   SOUTH KOREA|           1982516|\n",
      "|        BRAZIL|           1725479|\n",
      "|        FRANCE|           1641152|\n",
      "|     AUSTRALIA|           1350508|\n",
      "|         INDIA|           1206771|\n",
      "|         ITALY|            988860|\n",
      "|     ARGENTINA|            926321|\n",
      "|      COLOMBIA|            852618|\n",
      "|         SPAIN|            807447|\n",
      "|   NETHERLANDS|            674544|\n",
      "|     VENEZUELA|            589848|\n",
      "|        SWEDEN|            560581|\n",
      "|   SWITZERLAND|            471070|\n",
      "|        TAIWAN|            466267|\n",
      "|       IRELAND|            443005|\n",
      "|        ISRAEL|            425085|\n",
      "+--------------+------------------+\n",
      "only showing top 20 rows"
     ]
    }
   ],
   "source": [
    "df_analysis.show()"
   ]
  },
  {
   "cell_type": "code",
   "execution_count": 16,
   "metadata": {},
   "outputs": [
    {
     "data": {
      "application/vnd.jupyter.widget-view+json": {
       "model_id": "c94d27ef44df48ed90ebea9e8eed058d",
       "version_major": 2,
       "version_minor": 0
      },
      "text/plain": [
       "VBox()"
      ]
     },
     "metadata": {},
     "output_type": "display_data"
    },
    {
     "data": {
      "application/vnd.jupyter.widget-view+json": {
       "model_id": "",
       "version_major": 2,
       "version_minor": 0
      },
      "text/plain": [
       "FloatProgress(value=0.0, bar_style='info', description='Progress:', layout=Layout(height='25px', width='50%'),…"
      ]
     },
     "metadata": {},
     "output_type": "display_data"
    }
   ],
   "source": [
    "# Join fact table with dimension table, inner join\n",
    "df_join = df_fact.join(df_cow, df_fact.country_fk == df_cow.country, how='inner')"
   ]
  },
  {
   "cell_type": "code",
   "execution_count": 40,
   "metadata": {},
   "outputs": [
    {
     "data": {
      "application/vnd.jupyter.widget-view+json": {
       "model_id": "4b9ec695ce16422d8954f40881ba446d",
       "version_major": 2,
       "version_minor": 0
      },
      "text/plain": [
       "VBox()"
      ]
     },
     "metadata": {},
     "output_type": "display_data"
    },
    {
     "data": {
      "application/vnd.jupyter.widget-view+json": {
       "model_id": "",
       "version_major": 2,
       "version_minor": 0
      },
      "text/plain": [
       "FloatProgress(value=0.0, bar_style='info', description='Progress:', layout=Layout(height='25px', width='50%'),…"
      ]
     },
     "metadata": {},
     "output_type": "display_data"
    },
    {
     "name": "stdout",
     "output_type": "stream",
     "text": [
      "+--------------+-------------+----------------+------------------------+------------------+\n",
      "|       country|visitor_count|pop_in_thousands|visitor_count_per_1k_pop|gdp_dol_per_capita|\n",
      "+--------------+-------------+----------------+------------------------+------------------+\n",
      "|United Kingdom|      4587092|          60,609|                 75.6832|            27,700|\n",
      "|         Japan|      3603786|         127,464|                 28.2731|            28,200|\n",
      "|         China|      3049942|       1,313,974|                  2.3212|             5,000|\n",
      "|       Germany|      2046288|          82,422|                 24.8269|            27,600|\n",
      "|  Korea, South|      1982516|          48,847|                 40.5864|            17,800|\n",
      "|        Brazil|      1725479|         188,078|                  9.1743|             7,600|\n",
      "|        France|      1641152|          60,876|                 26.9589|            27,600|\n",
      "|     Australia|      1350508|          20,264|                 66.6454|            29,000|\n",
      "|         India|      1206771|       1,095,352|                  1.1017|             2,900|\n",
      "|         Italy|       988860|          58,134|                 17.0102|            26,700|\n",
      "|     Argentina|       926321|          39,922|                 23.2034|            11,200|\n",
      "|      Colombia|       852618|          43,593|                 19.5586|             6,300|\n",
      "|         Spain|       807447|          40,398|                 19.9874|            22,000|\n",
      "|   Netherlands|       674544|          16,491|                 40.9026|            28,600|\n",
      "|     Venezuela|       589848|          25,730|                 22.9241|             4,800|\n",
      "|        Sweden|       560581|           9,017|                 62.1721|            26,800|\n",
      "|   Switzerland|       471070|           7,524|                 62.6095|            32,700|\n",
      "|        Taiwan|       466267|          23,036|                 20.2407|            23,400|\n",
      "|       Ireland|       443005|           4,062|                109.0545|            29,600|\n",
      "|        Israel|       425085|           6,352|                 66.9202|            19,800|\n",
      "+--------------+-------------+----------------+------------------------+------------------+\n",
      "only showing top 20 rows"
     ]
    }
   ],
   "source": [
    "# What is the visitor count relative to the country's population?\n",
    "# What is the GDP per capita for top countries?\n",
    "df_join.filter(~df_join.i94res.contains('MEXICO')) \\\n",
    "       .groupBy('country') \\\n",
    "       .agg(F.sum('visitor_count').alias('visitor_count'),\n",
    "            F.avg('population').alias('population'),\n",
    "            F.avg('gdp_dol_per_capita').alias('gdp_dol_per_capita')) \\\n",
    "       .withColumn('visitor_count_per_1k_pop',\n",
    "                   F.format_number(F.col('visitor_count')/(F.col('population')/1000),4)) \\\n",
    "       .select('country',\n",
    "               'visitor_count',\n",
    "               F.format_number(F.col('population')/1000,0).alias('pop_in_thousands'),\n",
    "               'visitor_count_per_1k_pop',\n",
    "               F.format_number('gdp_dol_per_capita', 0).alias('gdp_dol_per_capita')) \\\n",
    "       .orderBy(F.desc('visitor_count')) \\\n",
    "       .show()"
   ]
  },
  {
   "cell_type": "code",
   "execution_count": null,
   "metadata": {},
   "outputs": [],
   "source": []
  }
 ],
 "metadata": {
  "kernelspec": {
   "display_name": "PySpark",
   "language": "",
   "name": "pysparkkernel"
  },
  "language_info": {
   "codemirror_mode": {
    "name": "python",
    "version": 2
   },
   "mimetype": "text/x-python",
   "name": "pyspark",
   "pygments_lexer": "python2"
  }
 },
 "nbformat": 4,
 "nbformat_minor": 4
}
