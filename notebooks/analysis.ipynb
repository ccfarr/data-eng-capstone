{
 "cells": [
  {
   "cell_type": "code",
   "execution_count": 1,
   "metadata": {},
   "outputs": [
    {
     "data": {
      "application/vnd.jupyter.widget-view+json": {
       "model_id": "33a90821bf474ec3b15e72f61eebe86a",
       "version_major": 2,
       "version_minor": 0
      },
      "text/plain": [
       "VBox()"
      ]
     },
     "metadata": {},
     "output_type": "display_data"
    },
    {
     "name": "stdout",
     "output_type": "stream",
     "text": [
      "Starting Spark application\n"
     ]
    },
    {
     "data": {
      "text/html": [
       "<table>\n",
       "<tr><th>ID</th><th>YARN Application ID</th><th>Kind</th><th>State</th><th>Spark UI</th><th>Driver log</th><th>Current session?</th></tr><tr><td>0</td><td>application_1591563931243_0001</td><td>pyspark</td><td>idle</td><td><a target=\"_blank\" href=\"http://ip-172-31-28-174.us-east-2.compute.internal:20888/proxy/application_1591563931243_0001/\">Link</a></td><td><a target=\"_blank\" href=\"http://ip-172-31-21-38.us-east-2.compute.internal:8042/node/containerlogs/container_1591563931243_0001_01_000001/livy\">Link</a></td><td>✔</td></tr></table>"
      ],
      "text/plain": [
       "<IPython.core.display.HTML object>"
      ]
     },
     "metadata": {},
     "output_type": "display_data"
    },
    {
     "data": {
      "application/vnd.jupyter.widget-view+json": {
       "model_id": "",
       "version_major": 2,
       "version_minor": 0
      },
      "text/plain": [
       "FloatProgress(value=0.0, bar_style='info', description='Progress:', layout=Layout(height='25px', width='50%'),…"
      ]
     },
     "metadata": {},
     "output_type": "display_data"
    },
    {
     "name": "stdout",
     "output_type": "stream",
     "text": [
      "SparkSession available as 'spark'.\n"
     ]
    },
    {
     "data": {
      "application/vnd.jupyter.widget-view+json": {
       "model_id": "",
       "version_major": 2,
       "version_minor": 0
      },
      "text/plain": [
       "FloatProgress(value=0.0, bar_style='info', description='Progress:', layout=Layout(height='25px', width='50%'),…"
      ]
     },
     "metadata": {},
     "output_type": "display_data"
    }
   ],
   "source": [
    "from pyspark.sql import SparkSession\n",
    "import pyspark.sql.functions as F"
   ]
  },
  {
   "cell_type": "code",
   "execution_count": 2,
   "metadata": {},
   "outputs": [
    {
     "data": {
      "application/vnd.jupyter.widget-view+json": {
       "model_id": "3e4469491a77401c98563f57f2d4924f",
       "version_major": 2,
       "version_minor": 0
      },
      "text/plain": [
       "VBox()"
      ]
     },
     "metadata": {},
     "output_type": "display_data"
    },
    {
     "data": {
      "application/vnd.jupyter.widget-view+json": {
       "model_id": "",
       "version_major": 2,
       "version_minor": 0
      },
      "text/plain": [
       "FloatProgress(value=0.0, bar_style='info', description='Progress:', layout=Layout(height='25px', width='50%'),…"
      ]
     },
     "metadata": {},
     "output_type": "display_data"
    }
   ],
   "source": [
    "spark = SparkSession.builder.getOrCreate()"
   ]
  },
  {
   "cell_type": "code",
   "execution_count": 3,
   "metadata": {},
   "outputs": [
    {
     "data": {
      "application/vnd.jupyter.widget-view+json": {
       "model_id": "a2f9da218eb64443963543f8bc6fda89",
       "version_major": 2,
       "version_minor": 0
      },
      "text/plain": [
       "VBox()"
      ]
     },
     "metadata": {},
     "output_type": "display_data"
    },
    {
     "data": {
      "application/vnd.jupyter.widget-view+json": {
       "model_id": "",
       "version_major": 2,
       "version_minor": 0
      },
      "text/plain": [
       "FloatProgress(value=0.0, bar_style='info', description='Progress:', layout=Layout(height='25px', width='50%'),…"
      ]
     },
     "metadata": {},
     "output_type": "display_data"
    }
   ],
   "source": [
    "df_cow = spark.read.parquet('s3://data-eng-capstone-cf/production/dim_countries_of_the_world')"
   ]
  },
  {
   "cell_type": "code",
   "execution_count": 4,
   "metadata": {},
   "outputs": [
    {
     "data": {
      "application/vnd.jupyter.widget-view+json": {
       "model_id": "785abcc6a3c1468bbab156046fac102a",
       "version_major": 2,
       "version_minor": 0
      },
      "text/plain": [
       "VBox()"
      ]
     },
     "metadata": {},
     "output_type": "display_data"
    },
    {
     "data": {
      "application/vnd.jupyter.widget-view+json": {
       "model_id": "",
       "version_major": 2,
       "version_minor": 0
      },
      "text/plain": [
       "FloatProgress(value=0.0, bar_style='info', description='Progress:', layout=Layout(height='25px', width='50%'),…"
      ]
     },
     "metadata": {},
     "output_type": "display_data"
    },
    {
     "name": "stdout",
     "output_type": "stream",
     "text": [
      "227"
     ]
    }
   ],
   "source": [
    "df_cow.count()"
   ]
  },
  {
   "cell_type": "code",
   "execution_count": 5,
   "metadata": {},
   "outputs": [
    {
     "data": {
      "application/vnd.jupyter.widget-view+json": {
       "model_id": "6144637cf4094f3dab4eb35082a64b12",
       "version_major": 2,
       "version_minor": 0
      },
      "text/plain": [
       "VBox()"
      ]
     },
     "metadata": {},
     "output_type": "display_data"
    },
    {
     "data": {
      "application/vnd.jupyter.widget-view+json": {
       "model_id": "",
       "version_major": 2,
       "version_minor": 0
      },
      "text/plain": [
       "FloatProgress(value=0.0, bar_style='info', description='Progress:', layout=Layout(height='25px', width='50%'),…"
      ]
     },
     "metadata": {},
     "output_type": "display_data"
    },
    {
     "name": "stdout",
     "output_type": "stream",
     "text": [
      "root\n",
      " |-- country: string (nullable = true)\n",
      " |-- region: string (nullable = true)\n",
      " |-- population: integer (nullable = true)\n",
      " |-- gdp_dol_per_capita: integer (nullable = true)"
     ]
    }
   ],
   "source": [
    "df_cow.printSchema()"
   ]
  },
  {
   "cell_type": "code",
   "execution_count": 6,
   "metadata": {},
   "outputs": [
    {
     "data": {
      "application/vnd.jupyter.widget-view+json": {
       "model_id": "ad42318c6f6b44d2a88d3681d848cd80",
       "version_major": 2,
       "version_minor": 0
      },
      "text/plain": [
       "VBox()"
      ]
     },
     "metadata": {},
     "output_type": "display_data"
    },
    {
     "data": {
      "application/vnd.jupyter.widget-view+json": {
       "model_id": "",
       "version_major": 2,
       "version_minor": 0
      },
      "text/plain": [
       "FloatProgress(value=0.0, bar_style='info', description='Progress:', layout=Layout(height='25px', width='50%'),…"
      ]
     },
     "metadata": {},
     "output_type": "display_data"
    },
    {
     "name": "stdout",
     "output_type": "stream",
     "text": [
      "+-----------------+--------------------+----------+------------------+\n",
      "|          country|              region|population|gdp_dol_per_capita|\n",
      "+-----------------+--------------------+----------+------------------+\n",
      "|      Afghanistan|ASIA (EX. NEAR EAST)|  31056997|               700|\n",
      "|          Albania|      EASTERN EUROPE|   3581655|              4500|\n",
      "|          Algeria|     NORTHERN AFRICA|  32930091|              6000|\n",
      "|   American Samoa|             OCEANIA|     57794|              8000|\n",
      "|          Andorra|      WESTERN EUROPE|     71201|             19000|\n",
      "|           Angola|  SUB-SAHARAN AFRICA|  12127071|              1900|\n",
      "|         Anguilla| LATIN AMER. & CARIB|     13477|              8600|\n",
      "|Antigua & Barbuda| LATIN AMER. & CARIB|     69108|             11000|\n",
      "|        Argentina| LATIN AMER. & CARIB|  39921833|             11200|\n",
      "|          Armenia| C.W. OF IND. STATES|   2976372|              3500|\n",
      "|            Aruba| LATIN AMER. & CARIB|     71891|             28000|\n",
      "|        Australia|             OCEANIA|  20264082|             29000|\n",
      "|          Austria|      WESTERN EUROPE|   8192880|             30000|\n",
      "|       Azerbaijan| C.W. OF IND. STATES|   7961619|              3400|\n",
      "|     Bahamas, The| LATIN AMER. & CARIB|    303770|             16700|\n",
      "|          Bahrain|           NEAR EAST|    698585|             16900|\n",
      "|       Bangladesh|ASIA (EX. NEAR EAST)| 147365352|              1900|\n",
      "|         Barbados| LATIN AMER. & CARIB|    279912|             15700|\n",
      "|          Belarus| C.W. OF IND. STATES|  10293011|              6100|\n",
      "|          Belgium|      WESTERN EUROPE|  10379067|             29100|\n",
      "+-----------------+--------------------+----------+------------------+\n",
      "only showing top 20 rows"
     ]
    }
   ],
   "source": [
    "df_cow.show()"
   ]
  },
  {
   "cell_type": "code",
   "execution_count": 7,
   "metadata": {},
   "outputs": [
    {
     "data": {
      "application/vnd.jupyter.widget-view+json": {
       "model_id": "ffe9a14a81764413ba2b47ec4865865f",
       "version_major": 2,
       "version_minor": 0
      },
      "text/plain": [
       "VBox()"
      ]
     },
     "metadata": {},
     "output_type": "display_data"
    },
    {
     "data": {
      "application/vnd.jupyter.widget-view+json": {
       "model_id": "",
       "version_major": 2,
       "version_minor": 0
      },
      "text/plain": [
       "FloatProgress(value=0.0, bar_style='info', description='Progress:', layout=Layout(height='25px', width='50%'),…"
      ]
     },
     "metadata": {},
     "output_type": "display_data"
    }
   ],
   "source": [
    "df_fact = spark.read.parquet('s3://data-eng-capstone-cf/production/fact_i94')"
   ]
  },
  {
   "cell_type": "code",
   "execution_count": 8,
   "metadata": {},
   "outputs": [
    {
     "data": {
      "application/vnd.jupyter.widget-view+json": {
       "model_id": "93f327be037747429bdb1d78ca0dab68",
       "version_major": 2,
       "version_minor": 0
      },
      "text/plain": [
       "VBox()"
      ]
     },
     "metadata": {},
     "output_type": "display_data"
    },
    {
     "data": {
      "application/vnd.jupyter.widget-view+json": {
       "model_id": "",
       "version_major": 2,
       "version_minor": 0
      },
      "text/plain": [
       "FloatProgress(value=0.0, bar_style='info', description='Progress:', layout=Layout(height='25px', width='50%'),…"
      ]
     },
     "metadata": {},
     "output_type": "display_data"
    },
    {
     "name": "stdout",
     "output_type": "stream",
     "text": [
      "root\n",
      " |-- i94bir: integer (nullable = true)\n",
      " |-- visatype: string (nullable = true)\n",
      " |-- visitor_count: long (nullable = true)\n",
      " |-- country_fk: string (nullable = true)\n",
      " |-- i94mode: string (nullable = true)\n",
      " |-- i94visa: string (nullable = true)\n",
      " |-- i94mon: integer (nullable = true)\n",
      " |-- i94res: string (nullable = true)"
     ]
    }
   ],
   "source": [
    "df_fact.printSchema()"
   ]
  },
  {
   "cell_type": "code",
   "execution_count": 9,
   "metadata": {},
   "outputs": [
    {
     "data": {
      "application/vnd.jupyter.widget-view+json": {
       "model_id": "48bd86e375314c2792585a3f7b462541",
       "version_major": 2,
       "version_minor": 0
      },
      "text/plain": [
       "VBox()"
      ]
     },
     "metadata": {},
     "output_type": "display_data"
    },
    {
     "data": {
      "application/vnd.jupyter.widget-view+json": {
       "model_id": "",
       "version_major": 2,
       "version_minor": 0
      },
      "text/plain": [
       "FloatProgress(value=0.0, bar_style='info', description='Progress:', layout=Layout(height='25px', width='50%'),…"
      ]
     },
     "metadata": {},
     "output_type": "display_data"
    },
    {
     "name": "stdout",
     "output_type": "stream",
     "text": [
      "740595"
     ]
    }
   ],
   "source": [
    "df_fact.count()"
   ]
  },
  {
   "cell_type": "code",
   "execution_count": 10,
   "metadata": {},
   "outputs": [
    {
     "data": {
      "application/vnd.jupyter.widget-view+json": {
       "model_id": "e290ceb46cff4831a5f6b972cc5aed62",
       "version_major": 2,
       "version_minor": 0
      },
      "text/plain": [
       "VBox()"
      ]
     },
     "metadata": {},
     "output_type": "display_data"
    },
    {
     "data": {
      "application/vnd.jupyter.widget-view+json": {
       "model_id": "",
       "version_major": 2,
       "version_minor": 0
      },
      "text/plain": [
       "FloatProgress(value=0.0, bar_style='info', description='Progress:', layout=Layout(height='25px', width='50%'),…"
      ]
     },
     "metadata": {},
     "output_type": "display_data"
    },
    {
     "name": "stdout",
     "output_type": "stream",
     "text": [
      "+------------------+\n",
      "|sum(visitor_count)|\n",
      "+------------------+\n",
      "|          40790529|\n",
      "+------------------+"
     ]
    }
   ],
   "source": [
    "df_fact.select(F.sum('visitor_count')).show()"
   ]
  },
  {
   "cell_type": "code",
   "execution_count": 11,
   "metadata": {},
   "outputs": [
    {
     "data": {
      "application/vnd.jupyter.widget-view+json": {
       "model_id": "82ce8bcc7b484e9fa459005d1fdcdbc4",
       "version_major": 2,
       "version_minor": 0
      },
      "text/plain": [
       "VBox()"
      ]
     },
     "metadata": {},
     "output_type": "display_data"
    },
    {
     "data": {
      "application/vnd.jupyter.widget-view+json": {
       "model_id": "",
       "version_major": 2,
       "version_minor": 0
      },
      "text/plain": [
       "FloatProgress(value=0.0, bar_style='info', description='Progress:', layout=Layout(height='25px', width='50%'),…"
      ]
     },
     "metadata": {},
     "output_type": "display_data"
    },
    {
     "name": "stdout",
     "output_type": "stream",
     "text": [
      "+------+--------+-------------+------------+-------+--------+------+-----------+\n",
      "|i94bir|visatype|visitor_count|  country_fk|i94mode| i94visa|i94mon|     i94res|\n",
      "+------+--------+-------------+------------+-------+--------+------+-----------+\n",
      "|    41|      E2|            7|Korea, South|   Land|Business|     4|SOUTH KOREA|\n",
      "|    45|      F1|            6|Korea, South|    Air| Student|     4|SOUTH KOREA|\n",
      "|    21|      B2|            8|Korea, South|    Air|Pleasure|     4|SOUTH KOREA|\n",
      "|    17|      WB|            5|Korea, South|    Air|Business|     4|SOUTH KOREA|\n",
      "|    74|      WB|            4|Korea, South|    Air|Business|     4|SOUTH KOREA|\n",
      "+------+--------+-------------+------------+-------+--------+------+-----------+\n",
      "only showing top 5 rows"
     ]
    }
   ],
   "source": [
    "df_fact.show(5)"
   ]
  },
  {
   "cell_type": "code",
   "execution_count": 12,
   "metadata": {},
   "outputs": [
    {
     "data": {
      "application/vnd.jupyter.widget-view+json": {
       "model_id": "ce76310a3ac0445ab2ada7e78801c8e2",
       "version_major": 2,
       "version_minor": 0
      },
      "text/plain": [
       "VBox()"
      ]
     },
     "metadata": {},
     "output_type": "display_data"
    },
    {
     "data": {
      "application/vnd.jupyter.widget-view+json": {
       "model_id": "",
       "version_major": 2,
       "version_minor": 0
      },
      "text/plain": [
       "FloatProgress(value=0.0, bar_style='info', description='Progress:', layout=Layout(height='25px', width='50%'),…"
      ]
     },
     "metadata": {},
     "output_type": "display_data"
    }
   ],
   "source": [
    "# I-94 Arrivals by Country of Residence (COR) and Month\n",
    "# Exludes Mexico to focus on Overseas countries\n",
    "df_analysis = df_fact.filter(~df_fact.i94res.contains('MEXICO')) \\\n",
    "                     .groupBy('i94res') \\\n",
    "                     .sum('visitor_count') \\\n",
    "                     .orderBy(F.desc('sum(visitor_count)'))"
   ]
  },
  {
   "cell_type": "code",
   "execution_count": 13,
   "metadata": {},
   "outputs": [
    {
     "data": {
      "application/vnd.jupyter.widget-view+json": {
       "model_id": "7cf7981c48ea4cb5b7e16061b10091f1",
       "version_major": 2,
       "version_minor": 0
      },
      "text/plain": [
       "VBox()"
      ]
     },
     "metadata": {},
     "output_type": "display_data"
    },
    {
     "data": {
      "application/vnd.jupyter.widget-view+json": {
       "model_id": "",
       "version_major": 2,
       "version_minor": 0
      },
      "text/plain": [
       "FloatProgress(value=0.0, bar_style='info', description='Progress:', layout=Layout(height='25px', width='50%'),…"
      ]
     },
     "metadata": {},
     "output_type": "display_data"
    },
    {
     "name": "stdout",
     "output_type": "stream",
     "text": [
      "+--------------+------------------+\n",
      "|        i94res|sum(visitor_count)|\n",
      "+--------------+------------------+\n",
      "|UNITED KINGDOM|           4587092|\n",
      "|         JAPAN|           3603786|\n",
      "|    CHINA, PRC|           3049942|\n",
      "|       GERMANY|           2046288|\n",
      "|   SOUTH KOREA|           1982516|\n",
      "|        BRAZIL|           1725479|\n",
      "|        FRANCE|           1641152|\n",
      "|     AUSTRALIA|           1350508|\n",
      "|         INDIA|           1206771|\n",
      "|         ITALY|            988860|\n",
      "|     ARGENTINA|            926321|\n",
      "|      COLOMBIA|            852618|\n",
      "|         SPAIN|            807447|\n",
      "|   NETHERLANDS|            674544|\n",
      "|     VENEZUELA|            589848|\n",
      "|        SWEDEN|            560581|\n",
      "|   SWITZERLAND|            471070|\n",
      "|        TAIWAN|            466267|\n",
      "|       IRELAND|            443005|\n",
      "|        ISRAEL|            425085|\n",
      "+--------------+------------------+\n",
      "only showing top 20 rows"
     ]
    }
   ],
   "source": [
    "df_analysis.show()"
   ]
  },
  {
   "cell_type": "code",
   "execution_count": 14,
   "metadata": {},
   "outputs": [
    {
     "data": {
      "application/vnd.jupyter.widget-view+json": {
       "model_id": "187880d93e94466a9391b09ad0955b37",
       "version_major": 2,
       "version_minor": 0
      },
      "text/plain": [
       "VBox()"
      ]
     },
     "metadata": {},
     "output_type": "display_data"
    },
    {
     "data": {
      "application/vnd.jupyter.widget-view+json": {
       "model_id": "",
       "version_major": 2,
       "version_minor": 0
      },
      "text/plain": [
       "FloatProgress(value=0.0, bar_style='info', description='Progress:', layout=Layout(height='25px', width='50%'),…"
      ]
     },
     "metadata": {},
     "output_type": "display_data"
    }
   ],
   "source": [
    "# Join fact table with dimension table, inner join\n",
    "df_join = df_fact.join(df_cow, df_fact.country_fk == df_cow.country, how='inner')"
   ]
  },
  {
   "cell_type": "code",
   "execution_count": 16,
   "metadata": {},
   "outputs": [
    {
     "data": {
      "application/vnd.jupyter.widget-view+json": {
       "model_id": "6689b5a8f44e4497b3e8d12c95229333",
       "version_major": 2,
       "version_minor": 0
      },
      "text/plain": [
       "VBox()"
      ]
     },
     "metadata": {},
     "output_type": "display_data"
    },
    {
     "data": {
      "application/vnd.jupyter.widget-view+json": {
       "model_id": "",
       "version_major": 2,
       "version_minor": 0
      },
      "text/plain": [
       "FloatProgress(value=0.0, bar_style='info', description='Progress:', layout=Layout(height='25px', width='50%'),…"
      ]
     },
     "metadata": {},
     "output_type": "display_data"
    }
   ],
   "source": [
    "df_analysis2 = df_join.filter(~df_join.i94res.contains('MEXICO')) \\\n",
    "                      .groupBy('country') \\\n",
    "                      .agg(F.sum('visitor_count').alias('visitor_count'),\n",
    "                           F.avg('population').alias('population'),\n",
    "                           F.avg('gdp_dol_per_capita').alias('gdp_dol_per_capita')) \\\n",
    "                      .select(F.col('country'),\n",
    "                              F.col('visitor_count'),\n",
    "                              F.col('population'),\n",
    "                              (F.col('visitor_count')/(F.col('population'))*100).alias('vis_cnt_perc_pop'),\n",
    "                              F.col('gdp_dol_per_capita')) \\\n",
    "                      .orderBy(F.desc('visitor_count'))"
   ]
  },
  {
   "cell_type": "code",
   "execution_count": 17,
   "metadata": {},
   "outputs": [
    {
     "data": {
      "application/vnd.jupyter.widget-view+json": {
       "model_id": "33183e43ad0845fd8f3b714c404d834a",
       "version_major": 2,
       "version_minor": 0
      },
      "text/plain": [
       "VBox()"
      ]
     },
     "metadata": {},
     "output_type": "display_data"
    },
    {
     "data": {
      "application/vnd.jupyter.widget-view+json": {
       "model_id": "",
       "version_major": 2,
       "version_minor": 0
      },
      "text/plain": [
       "FloatProgress(value=0.0, bar_style='info', description='Progress:', layout=Layout(height='25px', width='50%'),…"
      ]
     },
     "metadata": {},
     "output_type": "display_data"
    },
    {
     "name": "stdout",
     "output_type": "stream",
     "text": [
      "+--------------+-------------+-------------+----------------+------------------+\n",
      "|       country|visitor_count|   population|vis_cnt_perc_pop|gdp_dol_per_capita|\n",
      "+--------------+-------------+-------------+----------------+------------------+\n",
      "|United Kingdom|    4,587,092|   60,609,153|          7.5683|            27,700|\n",
      "|         Japan|    3,603,786|  127,463,611|          2.8273|            28,200|\n",
      "|         China|    3,049,942|1,313,973,713|          0.2321|             5,000|\n",
      "|       Germany|    2,046,288|   82,422,299|          2.4827|            27,600|\n",
      "|  Korea, South|    1,982,516|   48,846,823|          4.0586|            17,800|\n",
      "|        Brazil|    1,725,479|  188,078,227|          0.9174|             7,600|\n",
      "|        France|    1,641,152|   60,876,136|          2.6959|            27,600|\n",
      "|     Australia|    1,350,508|   20,264,082|          6.6645|            29,000|\n",
      "|         India|    1,206,771|1,095,351,995|          0.1102|             2,900|\n",
      "|         Italy|      988,860|   58,133,509|          1.7010|            26,700|\n",
      "|     Argentina|      926,321|   39,921,833|          2.3203|            11,200|\n",
      "|      Colombia|      852,618|   43,593,035|          1.9559|             6,300|\n",
      "|         Spain|      807,447|   40,397,842|          1.9987|            22,000|\n",
      "|   Netherlands|      674,544|   16,491,461|          4.0903|            28,600|\n",
      "|     Venezuela|      589,848|   25,730,435|          2.2924|             4,800|\n",
      "|        Sweden|      560,581|    9,016,596|          6.2172|            26,800|\n",
      "|   Switzerland|      471,070|    7,523,934|          6.2610|            32,700|\n",
      "|        Taiwan|      466,267|   23,036,087|          2.0241|            23,400|\n",
      "|       Ireland|      443,005|    4,062,235|         10.9054|            29,600|\n",
      "|        Israel|      425,085|    6,352,117|          6.6920|            19,800|\n",
      "+--------------+-------------+-------------+----------------+------------------+\n",
      "only showing top 20 rows"
     ]
    }
   ],
   "source": [
    "# What is the population for top countries?\n",
    "# What is the visitor count relative to the country's population?\n",
    "# What is the GDP per capita for top countries?\n",
    "df_analysis2.select(F.col('country'),\n",
    "                    F.format_number('visitor_count',0).alias('visitor_count'),\n",
    "                    F.format_number('population',0).alias('population'),\n",
    "                    F.format_number('vis_cnt_perc_pop',4).alias('vis_cnt_perc_pop'),\n",
    "                    F.format_number('gdp_dol_per_capita',0).alias('gdp_dol_per_capita')) \\\n",
    "            .show()"
   ]
  }
 ],
 "metadata": {
  "kernelspec": {
   "display_name": "PySpark",
   "language": "",
   "name": "pysparkkernel"
  },
  "language_info": {
   "codemirror_mode": {
    "name": "python",
    "version": 2
   },
   "mimetype": "text/x-python",
   "name": "pyspark",
   "pygments_lexer": "python2"
  }
 },
 "nbformat": 4,
 "nbformat_minor": 4
}
