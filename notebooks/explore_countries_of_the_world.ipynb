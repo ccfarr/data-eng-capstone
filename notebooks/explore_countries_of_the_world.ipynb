{
 "cells": [
  {
   "cell_type": "markdown",
   "metadata": {},
   "source": [
    "### Explore staging/countries_of_the_world.csv\n",
    "\n",
    "Exploration summary:\n",
    "- 227 records in total\n",
    "- 20 columns, all read in as strings\n",
    "    - Country and Region columns are truly strings\n",
    "    - Population, Area (sq. mi.), GDP ($ per capita) and Climate are whole numbers\n",
    "    - All other columns are decimals\n",
    "- Country, the primary key, does not contain any duplicate values or missing values\n",
    "- Descriptive statistics (e.g. China most populous) as expected"
   ]
  },
  {
   "cell_type": "code",
   "execution_count": 1,
   "metadata": {},
   "outputs": [
    {
     "data": {
      "application/vnd.jupyter.widget-view+json": {
       "model_id": "38afe3d0d19241b9a4a7b3c33495ea60",
       "version_major": 2,
       "version_minor": 0
      },
      "text/plain": [
       "VBox()"
      ]
     },
     "metadata": {},
     "output_type": "display_data"
    },
    {
     "name": "stdout",
     "output_type": "stream",
     "text": [
      "Starting Spark application\n"
     ]
    },
    {
     "data": {
      "text/html": [
       "<table>\n",
       "<tr><th>ID</th><th>YARN Application ID</th><th>Kind</th><th>State</th><th>Spark UI</th><th>Driver log</th><th>Current session?</th></tr><tr><td>1</td><td>application_1591563931243_0002</td><td>pyspark</td><td>idle</td><td><a target=\"_blank\" href=\"http://ip-172-31-28-174.us-east-2.compute.internal:20888/proxy/application_1591563931243_0002/\">Link</a></td><td><a target=\"_blank\" href=\"http://ip-172-31-28-168.us-east-2.compute.internal:8042/node/containerlogs/container_1591563931243_0002_01_000001/livy\">Link</a></td><td>✔</td></tr></table>"
      ],
      "text/plain": [
       "<IPython.core.display.HTML object>"
      ]
     },
     "metadata": {},
     "output_type": "display_data"
    },
    {
     "data": {
      "application/vnd.jupyter.widget-view+json": {
       "model_id": "",
       "version_major": 2,
       "version_minor": 0
      },
      "text/plain": [
       "FloatProgress(value=0.0, bar_style='info', description='Progress:', layout=Layout(height='25px', width='50%'),…"
      ]
     },
     "metadata": {},
     "output_type": "display_data"
    },
    {
     "name": "stdout",
     "output_type": "stream",
     "text": [
      "SparkSession available as 'spark'.\n"
     ]
    },
    {
     "data": {
      "application/vnd.jupyter.widget-view+json": {
       "model_id": "",
       "version_major": 2,
       "version_minor": 0
      },
      "text/plain": [
       "FloatProgress(value=0.0, bar_style='info', description='Progress:', layout=Layout(height='25px', width='50%'),…"
      ]
     },
     "metadata": {},
     "output_type": "display_data"
    }
   ],
   "source": [
    "from pyspark.sql import SparkSession\n",
    "from pyspark.sql.types import IntegerType, DoubleType\n",
    "import pyspark.sql.functions as F"
   ]
  },
  {
   "cell_type": "code",
   "execution_count": 2,
   "metadata": {},
   "outputs": [
    {
     "data": {
      "application/vnd.jupyter.widget-view+json": {
       "model_id": "352f2d13095d4113a0b6ac1e47f8356a",
       "version_major": 2,
       "version_minor": 0
      },
      "text/plain": [
       "VBox()"
      ]
     },
     "metadata": {},
     "output_type": "display_data"
    },
    {
     "data": {
      "application/vnd.jupyter.widget-view+json": {
       "model_id": "",
       "version_major": 2,
       "version_minor": 0
      },
      "text/plain": [
       "FloatProgress(value=0.0, bar_style='info', description='Progress:', layout=Layout(height='25px', width='50%'),…"
      ]
     },
     "metadata": {},
     "output_type": "display_data"
    }
   ],
   "source": [
    "# Get SparkSession object\n",
    "spark = SparkSession.builder.getOrCreate()"
   ]
  },
  {
   "cell_type": "code",
   "execution_count": 3,
   "metadata": {},
   "outputs": [
    {
     "data": {
      "application/vnd.jupyter.widget-view+json": {
       "model_id": "b999e1c7ef034376bf0b1273b3584cfa",
       "version_major": 2,
       "version_minor": 0
      },
      "text/plain": [
       "VBox()"
      ]
     },
     "metadata": {},
     "output_type": "display_data"
    },
    {
     "data": {
      "application/vnd.jupyter.widget-view+json": {
       "model_id": "",
       "version_major": 2,
       "version_minor": 0
      },
      "text/plain": [
       "FloatProgress(value=0.0, bar_style='info', description='Progress:', layout=Layout(height='25px', width='50%'),…"
      ]
     },
     "metadata": {},
     "output_type": "display_data"
    }
   ],
   "source": [
    "# Filename of input file\n",
    "filename = 's3://data-eng-capstone-cf/staging/countries_of_the_world.csv'"
   ]
  },
  {
   "cell_type": "code",
   "execution_count": 4,
   "metadata": {},
   "outputs": [
    {
     "data": {
      "application/vnd.jupyter.widget-view+json": {
       "model_id": "59658e3812544210aa02ed566c87f452",
       "version_major": 2,
       "version_minor": 0
      },
      "text/plain": [
       "VBox()"
      ]
     },
     "metadata": {},
     "output_type": "display_data"
    },
    {
     "data": {
      "application/vnd.jupyter.widget-view+json": {
       "model_id": "",
       "version_major": 2,
       "version_minor": 0
      },
      "text/plain": [
       "FloatProgress(value=0.0, bar_style='info', description='Progress:', layout=Layout(height='25px', width='50%'),…"
      ]
     },
     "metadata": {},
     "output_type": "display_data"
    }
   ],
   "source": [
    "# Read into a spark dataframe\n",
    "df = spark.read.csv(filename, header=True)"
   ]
  },
  {
   "cell_type": "code",
   "execution_count": 5,
   "metadata": {},
   "outputs": [
    {
     "data": {
      "application/vnd.jupyter.widget-view+json": {
       "model_id": "c3137e77a6af489ca872e6cf825bb7fd",
       "version_major": 2,
       "version_minor": 0
      },
      "text/plain": [
       "VBox()"
      ]
     },
     "metadata": {},
     "output_type": "display_data"
    },
    {
     "data": {
      "application/vnd.jupyter.widget-view+json": {
       "model_id": "",
       "version_major": 2,
       "version_minor": 0
      },
      "text/plain": [
       "FloatProgress(value=0.0, bar_style='info', description='Progress:', layout=Layout(height='25px', width='50%'),…"
      ]
     },
     "metadata": {},
     "output_type": "display_data"
    },
    {
     "name": "stdout",
     "output_type": "stream",
     "text": [
      "root\n",
      " |-- Country: string (nullable = true)\n",
      " |-- Region: string (nullable = true)\n",
      " |-- Population: string (nullable = true)\n",
      " |-- Area (sq. mi.): string (nullable = true)\n",
      " |-- Pop. Density (per sq. mi.): string (nullable = true)\n",
      " |-- Coastline (coast/area ratio): string (nullable = true)\n",
      " |-- Net migration: string (nullable = true)\n",
      " |-- Infant mortality (per 1000 births): string (nullable = true)\n",
      " |-- GDP ($ per capita): string (nullable = true)\n",
      " |-- Literacy (%): string (nullable = true)\n",
      " |-- Phones (per 1000): string (nullable = true)\n",
      " |-- Arable (%): string (nullable = true)\n",
      " |-- Crops (%): string (nullable = true)\n",
      " |-- Other (%): string (nullable = true)\n",
      " |-- Climate: string (nullable = true)\n",
      " |-- Birthrate: string (nullable = true)\n",
      " |-- Deathrate: string (nullable = true)\n",
      " |-- Agriculture: string (nullable = true)\n",
      " |-- Industry: string (nullable = true)\n",
      " |-- Service: string (nullable = true)"
     ]
    }
   ],
   "source": [
    "# Print schema\n",
    "df.printSchema()"
   ]
  },
  {
   "cell_type": "code",
   "execution_count": 6,
   "metadata": {
    "tags": [
     "outputPrepend"
    ]
   },
   "outputs": [
    {
     "data": {
      "application/vnd.jupyter.widget-view+json": {
       "model_id": "9a27ed2350a645b9888992f72f3b849c",
       "version_major": 2,
       "version_minor": 0
      },
      "text/plain": [
       "VBox()"
      ]
     },
     "metadata": {},
     "output_type": "display_data"
    },
    {
     "data": {
      "application/vnd.jupyter.widget-view+json": {
       "model_id": "",
       "version_major": 2,
       "version_minor": 0
      },
      "text/plain": [
       "FloatProgress(value=0.0, bar_style='info', description='Progress:', layout=Layout(height='25px', width='50%'),…"
      ]
     },
     "metadata": {},
     "output_type": "display_data"
    },
    {
     "name": "stdout",
     "output_type": "stream",
     "text": [
      "[Row(Country='Afghanistan ', Region='ASIA (EX. NEAR EAST)         ', Population='31056997', Area (sq. mi.)='647500', Pop. Density (per sq. mi.)='48,0', Coastline (coast/area ratio)='0,00', Net migration='23,06', Infant mortality (per 1000 births)='163,07', GDP ($ per capita)='700', Literacy (%)='36,0', Phones (per 1000)='3,2', Arable (%)='12,13', Crops (%)='0,22', Other (%)='87,65', Climate='1', Birthrate='46,6', Deathrate='20,34', Agriculture='0,38', Industry='0,24', Service='0,38')]"
     ]
    }
   ],
   "source": [
    "# What does the file look like?\n",
    "df.take(1)"
   ]
  },
  {
   "cell_type": "code",
   "execution_count": 7,
   "metadata": {},
   "outputs": [
    {
     "data": {
      "application/vnd.jupyter.widget-view+json": {
       "model_id": "9c1724328abd4220ac534fd091e3429c",
       "version_major": 2,
       "version_minor": 0
      },
      "text/plain": [
       "VBox()"
      ]
     },
     "metadata": {},
     "output_type": "display_data"
    },
    {
     "data": {
      "application/vnd.jupyter.widget-view+json": {
       "model_id": "",
       "version_major": 2,
       "version_minor": 0
      },
      "text/plain": [
       "FloatProgress(value=0.0, bar_style='info', description='Progress:', layout=Layout(height='25px', width='50%'),…"
      ]
     },
     "metadata": {},
     "output_type": "display_data"
    },
    {
     "name": "stdout",
     "output_type": "stream",
     "text": [
      "227"
     ]
    }
   ],
   "source": [
    "# How many records?\n",
    "df.count()"
   ]
  },
  {
   "cell_type": "code",
   "execution_count": 8,
   "metadata": {},
   "outputs": [
    {
     "data": {
      "application/vnd.jupyter.widget-view+json": {
       "model_id": "dd63fb1a58af40c6a9e18ff739eee8ea",
       "version_major": 2,
       "version_minor": 0
      },
      "text/plain": [
       "VBox()"
      ]
     },
     "metadata": {},
     "output_type": "display_data"
    },
    {
     "data": {
      "application/vnd.jupyter.widget-view+json": {
       "model_id": "",
       "version_major": 2,
       "version_minor": 0
      },
      "text/plain": [
       "FloatProgress(value=0.0, bar_style='info', description='Progress:', layout=Layout(height='25px', width='50%'),…"
      ]
     },
     "metadata": {},
     "output_type": "display_data"
    },
    {
     "name": "stdout",
     "output_type": "stream",
     "text": [
      "20"
     ]
    }
   ],
   "source": [
    "# How many columns?\n",
    "len(df.columns)"
   ]
  },
  {
   "cell_type": "code",
   "execution_count": 9,
   "metadata": {},
   "outputs": [
    {
     "data": {
      "application/vnd.jupyter.widget-view+json": {
       "model_id": "9c060f58183841bca0de314730f6cfaa",
       "version_major": 2,
       "version_minor": 0
      },
      "text/plain": [
       "VBox()"
      ]
     },
     "metadata": {},
     "output_type": "display_data"
    },
    {
     "data": {
      "application/vnd.jupyter.widget-view+json": {
       "model_id": "",
       "version_major": 2,
       "version_minor": 0
      },
      "text/plain": [
       "FloatProgress(value=0.0, bar_style='info', description='Progress:', layout=Layout(height='25px', width='50%'),…"
      ]
     },
     "metadata": {},
     "output_type": "display_data"
    },
    {
     "name": "stdout",
     "output_type": "stream",
     "text": [
      "+-------+\n",
      "|Country|\n",
      "+-------+\n",
      "|      0|\n",
      "+-------+"
     ]
    }
   ],
   "source": [
    "# How many NaN/None valued rows are there per column?\n",
    "# https://stackoverflow.com/questions/44627386/how-to-find-count-of-null-and-nan-values-for-each-column-in-a-pyspark-dataframe\n",
    "df.select([F.sum((F.isnan(c) | F.col(c).isNull()).cast(IntegerType())).alias(c) for c in df.columns if c == 'Country']).show()"
   ]
  },
  {
   "cell_type": "code",
   "execution_count": 10,
   "metadata": {},
   "outputs": [
    {
     "data": {
      "application/vnd.jupyter.widget-view+json": {
       "model_id": "01962803f7ac46669816d51e6e30530b",
       "version_major": 2,
       "version_minor": 0
      },
      "text/plain": [
       "VBox()"
      ]
     },
     "metadata": {},
     "output_type": "display_data"
    },
    {
     "data": {
      "application/vnd.jupyter.widget-view+json": {
       "model_id": "",
       "version_major": 2,
       "version_minor": 0
      },
      "text/plain": [
       "FloatProgress(value=0.0, bar_style='info', description='Progress:', layout=Layout(height='25px', width='50%'),…"
      ]
     },
     "metadata": {},
     "output_type": "display_data"
    },
    {
     "name": "stdout",
     "output_type": "stream",
     "text": [
      "True"
     ]
    }
   ],
   "source": [
    "# Check if unqiue in i94_cit_res_id\n",
    "df.select('Country').count() == df.select('Country').distinct().count()"
   ]
  },
  {
   "cell_type": "code",
   "execution_count": 11,
   "metadata": {},
   "outputs": [
    {
     "data": {
      "application/vnd.jupyter.widget-view+json": {
       "model_id": "34033e9867694abfb5da17d08d193b83",
       "version_major": 2,
       "version_minor": 0
      },
      "text/plain": [
       "VBox()"
      ]
     },
     "metadata": {},
     "output_type": "display_data"
    },
    {
     "data": {
      "application/vnd.jupyter.widget-view+json": {
       "model_id": "",
       "version_major": 2,
       "version_minor": 0
      },
      "text/plain": [
       "FloatProgress(value=0.0, bar_style='info', description='Progress:', layout=Layout(height='25px', width='50%'),…"
      ]
     },
     "metadata": {},
     "output_type": "display_data"
    },
    {
     "name": "stdout",
     "output_type": "stream",
     "text": [
      "+-----------------------------------+-----+\n",
      "|Region                             |count|\n",
      "+-----------------------------------+-----+\n",
      "|SUB-SAHARAN AFRICA                 |51   |\n",
      "|LATIN AMER. & CARIB                |45   |\n",
      "|WESTERN EUROPE                     |28   |\n",
      "|ASIA (EX. NEAR EAST)               |28   |\n",
      "|OCEANIA                            |21   |\n",
      "|NEAR EAST                          |16   |\n",
      "|EASTERN EUROPE                     |12   |\n",
      "|C.W. OF IND. STATES                |12   |\n",
      "|NORTHERN AFRICA                    |6    |\n",
      "|NORTHERN AMERICA                   |5    |\n",
      "|BALTICS                            |3    |\n",
      "+-----------------------------------+-----+"
     ]
    }
   ],
   "source": [
    "# Which regions have the most countries?\n",
    "df.groupBy('Region').count().orderBy('count', ascending=False).show(truncate=False)"
   ]
  },
  {
   "cell_type": "code",
   "execution_count": 12,
   "metadata": {},
   "outputs": [
    {
     "data": {
      "application/vnd.jupyter.widget-view+json": {
       "model_id": "b4bac8e1511041118378ed33ed90849a",
       "version_major": 2,
       "version_minor": 0
      },
      "text/plain": [
       "VBox()"
      ]
     },
     "metadata": {},
     "output_type": "display_data"
    },
    {
     "data": {
      "application/vnd.jupyter.widget-view+json": {
       "model_id": "",
       "version_major": 2,
       "version_minor": 0
      },
      "text/plain": [
       "FloatProgress(value=0.0, bar_style='info', description='Progress:', layout=Layout(height='25px', width='50%'),…"
      ]
     },
     "metadata": {},
     "output_type": "display_data"
    },
    {
     "name": "stdout",
     "output_type": "stream",
     "text": [
      "+-----------------+----------+\n",
      "|          Country|Population|\n",
      "+-----------------+----------+\n",
      "|           China |1313973713|\n",
      "|           India |1095351995|\n",
      "|   United States | 298444215|\n",
      "|       Indonesia | 245452739|\n",
      "|          Brazil | 188078227|\n",
      "|        Pakistan | 165803560|\n",
      "|      Bangladesh | 147365352|\n",
      "|          Russia | 142893540|\n",
      "|         Nigeria | 131859731|\n",
      "|           Japan | 127463611|\n",
      "|          Mexico | 107449525|\n",
      "|     Philippines |  89468677|\n",
      "|         Vietnam |  84402966|\n",
      "|         Germany |  82422299|\n",
      "|           Egypt |  78887007|\n",
      "|        Ethiopia |  74777981|\n",
      "|          Turkey |  70413958|\n",
      "|            Iran |  68688433|\n",
      "|        Thailand |  64631595|\n",
      "|Congo, Dem. Rep. |  62660551|\n",
      "+-----------------+----------+\n",
      "only showing top 20 rows"
     ]
    }
   ],
   "source": [
    "# Most populous countries\n",
    "df = df.withColumn('Population', F.col('Population').cast(IntegerType()))\n",
    "df.select('Country', 'Population').orderBy('Population', ascending=False).show()"
   ]
  },
  {
   "cell_type": "code",
   "execution_count": 13,
   "metadata": {},
   "outputs": [
    {
     "data": {
      "application/vnd.jupyter.widget-view+json": {
       "model_id": "d4fdcd92cc214481ad8f3361d16499dc",
       "version_major": 2,
       "version_minor": 0
      },
      "text/plain": [
       "VBox()"
      ]
     },
     "metadata": {},
     "output_type": "display_data"
    },
    {
     "data": {
      "application/vnd.jupyter.widget-view+json": {
       "model_id": "",
       "version_major": 2,
       "version_minor": 0
      },
      "text/plain": [
       "FloatProgress(value=0.0, bar_style='info', description='Progress:', layout=Layout(height='25px', width='50%'),…"
      ]
     },
     "metadata": {},
     "output_type": "display_data"
    },
    {
     "name": "stdout",
     "output_type": "stream",
     "text": [
      "+-----------------+--------+\n",
      "|          Country|    area|\n",
      "+-----------------+--------+\n",
      "|          Russia |17075200|\n",
      "|          Canada | 9984670|\n",
      "|   United States | 9631420|\n",
      "|           China | 9596960|\n",
      "|          Brazil | 8511965|\n",
      "|       Australia | 7686850|\n",
      "|           India | 3287590|\n",
      "|       Argentina | 2766890|\n",
      "|      Kazakhstan | 2717300|\n",
      "|           Sudan | 2505810|\n",
      "|         Algeria | 2381740|\n",
      "|Congo, Dem. Rep. | 2345410|\n",
      "|       Greenland | 2166086|\n",
      "|          Mexico | 1972550|\n",
      "|    Saudi Arabia | 1960582|\n",
      "|       Indonesia | 1919440|\n",
      "|           Libya | 1759540|\n",
      "|            Iran | 1648000|\n",
      "|        Mongolia | 1564116|\n",
      "|            Peru | 1285220|\n",
      "+-----------------+--------+\n",
      "only showing top 20 rows"
     ]
    }
   ],
   "source": [
    "# Countries with largest areas\n",
    "df = df.withColumnRenamed('Area (sq. mi.)', 'area')\n",
    "df = df.withColumn('area', F.col('area').cast(IntegerType()))\n",
    "df.select('Country', 'area').orderBy('area', ascending=False).show()"
   ]
  },
  {
   "cell_type": "code",
   "execution_count": 14,
   "metadata": {},
   "outputs": [
    {
     "data": {
      "application/vnd.jupyter.widget-view+json": {
       "model_id": "0b6fa2e103a7415e924629addb497af3",
       "version_major": 2,
       "version_minor": 0
      },
      "text/plain": [
       "VBox()"
      ]
     },
     "metadata": {},
     "output_type": "display_data"
    },
    {
     "data": {
      "application/vnd.jupyter.widget-view+json": {
       "model_id": "",
       "version_major": 2,
       "version_minor": 0
      },
      "text/plain": [
       "FloatProgress(value=0.0, bar_style='info', description='Progress:', layout=Layout(height='25px', width='50%'),…"
      ]
     },
     "metadata": {},
     "output_type": "display_data"
    },
    {
     "name": "stdout",
     "output_type": "stream",
     "text": [
      "+---------------+-----+\n",
      "|        Country|  gdp|\n",
      "+---------------+-----+\n",
      "|    Luxembourg |55100|\n",
      "| United States |37800|\n",
      "|        Norway |37800|\n",
      "|       Bermuda |36000|\n",
      "|Cayman Islands |35000|\n",
      "|    San Marino |34600|\n",
      "|   Switzerland |32700|\n",
      "|       Denmark |31100|\n",
      "|       Iceland |30900|\n",
      "|       Austria |30000|\n",
      "|        Canada |29800|\n",
      "|       Ireland |29600|\n",
      "|       Belgium |29100|\n",
      "|     Australia |29000|\n",
      "|     Hong Kong |28800|\n",
      "|   Netherlands |28600|\n",
      "|         Japan |28200|\n",
      "|         Aruba |28000|\n",
      "|United Kingdom |27700|\n",
      "|        France |27600|\n",
      "+---------------+-----+\n",
      "only showing top 20 rows"
     ]
    }
   ],
   "source": [
    "# Richest countries\n",
    "df = df.withColumnRenamed('GDP ($ per capita)', 'gdp')\n",
    "df = df.withColumn('gdp', F.col('gdp').cast(IntegerType()))\n",
    "df.select('Country', 'gdp').orderBy('gdp', ascending=False).show()"
   ]
  },
  {
   "cell_type": "code",
   "execution_count": 15,
   "metadata": {},
   "outputs": [
    {
     "data": {
      "application/vnd.jupyter.widget-view+json": {
       "model_id": "1cf508d6499c494e8551af53d55756d0",
       "version_major": 2,
       "version_minor": 0
      },
      "text/plain": [
       "VBox()"
      ]
     },
     "metadata": {},
     "output_type": "display_data"
    },
    {
     "data": {
      "application/vnd.jupyter.widget-view+json": {
       "model_id": "",
       "version_major": 2,
       "version_minor": 0
      },
      "text/plain": [
       "FloatProgress(value=0.0, bar_style='info', description='Progress:', layout=Layout(height='25px', width='50%'),…"
      ]
     },
     "metadata": {},
     "output_type": "display_data"
    },
    {
     "name": "stdout",
     "output_type": "stream",
     "text": [
      "+--------------------+------+\n",
      "|             Country|phones|\n",
      "+--------------------+------+\n",
      "|             Monaco |1035.6|\n",
      "|      United States | 898.0|\n",
      "|          Gibraltar | 877.7|\n",
      "|            Bermuda | 851.4|\n",
      "|           Guernsey | 842.4|\n",
      "|     Cayman Islands | 836.3|\n",
      "|             Jersey | 811.3|\n",
      "|             Sweden | 715.0|\n",
      "|         San Marino | 704.3|\n",
      "|St Pierre & Mique...| 683.2|\n",
      "|        Switzerland | 680.9|\n",
      "|        Isle of Man | 676.0|\n",
      "|            Germany | 667.9|\n",
      "|     Virgin Islands | 652.8|\n",
      "|            Iceland | 647.7|\n",
      "|Saint Kitts & Nevis | 638.9|\n",
      "|            Denmark | 614.6|\n",
      "|             Taiwan | 591.0|\n",
      "|             Greece | 589.7|\n",
      "|             France | 586.4|\n",
      "+--------------------+------+\n",
      "only showing top 20 rows"
     ]
    }
   ],
   "source": [
    "df = df.withColumn('phones', F.regexp_replace('Phones (per 1000)',',','.').cast(DoubleType()))\n",
    "df.select('Country', 'phones').orderBy('phones', ascending=False).show()"
   ]
  }
 ],
 "metadata": {
  "kernelspec": {
   "display_name": "PySpark",
   "language": "",
   "name": "pysparkkernel"
  },
  "language_info": {
   "codemirror_mode": {
    "name": "python",
    "version": 2
   },
   "mimetype": "text/x-python",
   "name": "pyspark",
   "pygments_lexer": "python2"
  }
 },
 "nbformat": 4,
 "nbformat_minor": 4
}
