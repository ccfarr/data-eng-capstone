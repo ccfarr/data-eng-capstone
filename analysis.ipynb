{
 "cells": [
  {
   "cell_type": "code",
   "execution_count": 1,
   "metadata": {},
   "outputs": [
    {
     "data": {
      "application/vnd.jupyter.widget-view+json": {
       "model_id": "f2a7ebb492304151bbafebee43051d56",
       "version_major": 2,
       "version_minor": 0
      },
      "text/plain": [
       "VBox()"
      ]
     },
     "metadata": {},
     "output_type": "display_data"
    },
    {
     "name": "stdout",
     "output_type": "stream",
     "text": [
      "Starting Spark application\n"
     ]
    },
    {
     "data": {
      "text/html": [
       "<table>\n",
       "<tr><th>ID</th><th>YARN Application ID</th><th>Kind</th><th>State</th><th>Spark UI</th><th>Driver log</th><th>Current session?</th></tr><tr><td>0</td><td>application_1591107246155_0002</td><td>pyspark</td><td>idle</td><td><a target=\"_blank\" href=\"http://ip-172-31-88-91.ec2.internal:20888/proxy/application_1591107246155_0002/\">Link</a></td><td><a target=\"_blank\" href=\"http://ip-172-31-86-99.ec2.internal:8042/node/containerlogs/container_1591107246155_0002_01_000001/livy\">Link</a></td><td>✔</td></tr></table>"
      ],
      "text/plain": [
       "<IPython.core.display.HTML object>"
      ]
     },
     "metadata": {},
     "output_type": "display_data"
    },
    {
     "data": {
      "application/vnd.jupyter.widget-view+json": {
       "model_id": "",
       "version_major": 2,
       "version_minor": 0
      },
      "text/plain": [
       "FloatProgress(value=0.0, bar_style='info', description='Progress:', layout=Layout(height='25px', width='50%'),…"
      ]
     },
     "metadata": {},
     "output_type": "display_data"
    },
    {
     "name": "stdout",
     "output_type": "stream",
     "text": [
      "SparkSession available as 'spark'.\n"
     ]
    },
    {
     "data": {
      "application/vnd.jupyter.widget-view+json": {
       "model_id": "",
       "version_major": 2,
       "version_minor": 0
      },
      "text/plain": [
       "FloatProgress(value=0.0, bar_style='info', description='Progress:', layout=Layout(height='25px', width='50%'),…"
      ]
     },
     "metadata": {},
     "output_type": "display_data"
    }
   ],
   "source": [
    "from pyspark.sql import SparkSession\n",
    "import pyspark.sql.functions as F"
   ]
  },
  {
   "cell_type": "code",
   "execution_count": 2,
   "metadata": {},
   "outputs": [
    {
     "data": {
      "application/vnd.jupyter.widget-view+json": {
       "model_id": "1c5e9bb898634f95b0c624578e0b4bf1",
       "version_major": 2,
       "version_minor": 0
      },
      "text/plain": [
       "VBox()"
      ]
     },
     "metadata": {},
     "output_type": "display_data"
    },
    {
     "data": {
      "application/vnd.jupyter.widget-view+json": {
       "model_id": "",
       "version_major": 2,
       "version_minor": 0
      },
      "text/plain": [
       "FloatProgress(value=0.0, bar_style='info', description='Progress:', layout=Layout(height='25px', width='50%'),…"
      ]
     },
     "metadata": {},
     "output_type": "display_data"
    }
   ],
   "source": [
    "spark = SparkSession.builder.getOrCreate()"
   ]
  },
  {
   "cell_type": "code",
   "execution_count": 4,
   "metadata": {},
   "outputs": [
    {
     "data": {
      "application/vnd.jupyter.widget-view+json": {
       "model_id": "615cac31d7bc43a3920f96f4320ec300",
       "version_major": 2,
       "version_minor": 0
      },
      "text/plain": [
       "VBox()"
      ]
     },
     "metadata": {},
     "output_type": "display_data"
    },
    {
     "data": {
      "application/vnd.jupyter.widget-view+json": {
       "model_id": "",
       "version_major": 2,
       "version_minor": 0
      },
      "text/plain": [
       "FloatProgress(value=0.0, bar_style='info', description='Progress:', layout=Layout(height='25px', width='50%'),…"
      ]
     },
     "metadata": {},
     "output_type": "display_data"
    }
   ],
   "source": [
    "df_cow = spark.read.parquet('s3://data-eng-capstone-cf/production/dim_countries_of_the_world')"
   ]
  },
  {
   "cell_type": "code",
   "execution_count": 5,
   "metadata": {},
   "outputs": [
    {
     "data": {
      "application/vnd.jupyter.widget-view+json": {
       "model_id": "9df4297d597940e691fcfe44f49b6791",
       "version_major": 2,
       "version_minor": 0
      },
      "text/plain": [
       "VBox()"
      ]
     },
     "metadata": {},
     "output_type": "display_data"
    },
    {
     "data": {
      "application/vnd.jupyter.widget-view+json": {
       "model_id": "",
       "version_major": 2,
       "version_minor": 0
      },
      "text/plain": [
       "FloatProgress(value=0.0, bar_style='info', description='Progress:', layout=Layout(height='25px', width='50%'),…"
      ]
     },
     "metadata": {},
     "output_type": "display_data"
    },
    {
     "name": "stdout",
     "output_type": "stream",
     "text": [
      "227"
     ]
    }
   ],
   "source": [
    "df_cow.count()"
   ]
  },
  {
   "cell_type": "code",
   "execution_count": 11,
   "metadata": {},
   "outputs": [
    {
     "data": {
      "application/vnd.jupyter.widget-view+json": {
       "model_id": "8337ee0cd0074dc1bb6eb3eee837d2f2",
       "version_major": 2,
       "version_minor": 0
      },
      "text/plain": [
       "VBox()"
      ]
     },
     "metadata": {},
     "output_type": "display_data"
    },
    {
     "data": {
      "application/vnd.jupyter.widget-view+json": {
       "model_id": "",
       "version_major": 2,
       "version_minor": 0
      },
      "text/plain": [
       "FloatProgress(value=0.0, bar_style='info', description='Progress:', layout=Layout(height='25px', width='50%'),…"
      ]
     },
     "metadata": {},
     "output_type": "display_data"
    },
    {
     "name": "stdout",
     "output_type": "stream",
     "text": [
      "root\n",
      " |-- country: string (nullable = true)\n",
      " |-- region: string (nullable = true)\n",
      " |-- population: integer (nullable = true)\n",
      " |-- gdp_dol_per_capita: integer (nullable = true)"
     ]
    }
   ],
   "source": [
    "df_cow.printSchema()"
   ]
  },
  {
   "cell_type": "code",
   "execution_count": 10,
   "metadata": {},
   "outputs": [
    {
     "data": {
      "application/vnd.jupyter.widget-view+json": {
       "model_id": "5d9c9447b5ff4a129962c9b03a980ae3",
       "version_major": 2,
       "version_minor": 0
      },
      "text/plain": [
       "VBox()"
      ]
     },
     "metadata": {},
     "output_type": "display_data"
    },
    {
     "data": {
      "application/vnd.jupyter.widget-view+json": {
       "model_id": "",
       "version_major": 2,
       "version_minor": 0
      },
      "text/plain": [
       "FloatProgress(value=0.0, bar_style='info', description='Progress:', layout=Layout(height='25px', width='50%'),…"
      ]
     },
     "metadata": {},
     "output_type": "display_data"
    },
    {
     "name": "stdout",
     "output_type": "stream",
     "text": [
      "+-----------------+--------------------+----------+------------------+\n",
      "|          country|              region|population|gdp_dol_per_capita|\n",
      "+-----------------+--------------------+----------+------------------+\n",
      "|      Afghanistan|ASIA (EX. NEAR EAST)|  31056997|               700|\n",
      "|          Albania|      EASTERN EUROPE|   3581655|              4500|\n",
      "|          Algeria|     NORTHERN AFRICA|  32930091|              6000|\n",
      "|   American Samoa|             OCEANIA|     57794|              8000|\n",
      "|          Andorra|      WESTERN EUROPE|     71201|             19000|\n",
      "|           Angola|  SUB-SAHARAN AFRICA|  12127071|              1900|\n",
      "|         Anguilla| LATIN AMER. & CARIB|     13477|              8600|\n",
      "|Antigua & Barbuda| LATIN AMER. & CARIB|     69108|             11000|\n",
      "|        Argentina| LATIN AMER. & CARIB|  39921833|             11200|\n",
      "|          Armenia| C.W. OF IND. STATES|   2976372|              3500|\n",
      "|            Aruba| LATIN AMER. & CARIB|     71891|             28000|\n",
      "|        Australia|             OCEANIA|  20264082|             29000|\n",
      "|          Austria|      WESTERN EUROPE|   8192880|             30000|\n",
      "|       Azerbaijan| C.W. OF IND. STATES|   7961619|              3400|\n",
      "|     Bahamas, The| LATIN AMER. & CARIB|    303770|             16700|\n",
      "|          Bahrain|           NEAR EAST|    698585|             16900|\n",
      "|       Bangladesh|ASIA (EX. NEAR EAST)| 147365352|              1900|\n",
      "|         Barbados| LATIN AMER. & CARIB|    279912|             15700|\n",
      "|          Belarus| C.W. OF IND. STATES|  10293011|              6100|\n",
      "|          Belgium|      WESTERN EUROPE|  10379067|             29100|\n",
      "+-----------------+--------------------+----------+------------------+\n",
      "only showing top 20 rows"
     ]
    }
   ],
   "source": [
    "df_cow.show()"
   ]
  },
  {
   "cell_type": "code",
   "execution_count": 6,
   "metadata": {},
   "outputs": [
    {
     "data": {
      "application/vnd.jupyter.widget-view+json": {
       "model_id": "694b824025724dc7837b80b694475209",
       "version_major": 2,
       "version_minor": 0
      },
      "text/plain": [
       "VBox()"
      ]
     },
     "metadata": {},
     "output_type": "display_data"
    },
    {
     "data": {
      "application/vnd.jupyter.widget-view+json": {
       "model_id": "",
       "version_major": 2,
       "version_minor": 0
      },
      "text/plain": [
       "FloatProgress(value=0.0, bar_style='info', description='Progress:', layout=Layout(height='25px', width='50%'),…"
      ]
     },
     "metadata": {},
     "output_type": "display_data"
    }
   ],
   "source": [
    "df_fact = spark.read.parquet('s3://data-eng-capstone-cf/production/fact_i94')"
   ]
  },
  {
   "cell_type": "code",
   "execution_count": 7,
   "metadata": {},
   "outputs": [
    {
     "data": {
      "application/vnd.jupyter.widget-view+json": {
       "model_id": "922d0f0c43fd43f8b254aefc7fb8fe11",
       "version_major": 2,
       "version_minor": 0
      },
      "text/plain": [
       "VBox()"
      ]
     },
     "metadata": {},
     "output_type": "display_data"
    },
    {
     "data": {
      "application/vnd.jupyter.widget-view+json": {
       "model_id": "",
       "version_major": 2,
       "version_minor": 0
      },
      "text/plain": [
       "FloatProgress(value=0.0, bar_style='info', description='Progress:', layout=Layout(height='25px', width='50%'),…"
      ]
     },
     "metadata": {},
     "output_type": "display_data"
    },
    {
     "name": "stdout",
     "output_type": "stream",
     "text": [
      "740595"
     ]
    }
   ],
   "source": [
    "df_fact.count()"
   ]
  },
  {
   "cell_type": "code",
   "execution_count": 8,
   "metadata": {},
   "outputs": [
    {
     "data": {
      "application/vnd.jupyter.widget-view+json": {
       "model_id": "6579d963a364491eaff8c2ac45a9737a",
       "version_major": 2,
       "version_minor": 0
      },
      "text/plain": [
       "VBox()"
      ]
     },
     "metadata": {},
     "output_type": "display_data"
    },
    {
     "data": {
      "application/vnd.jupyter.widget-view+json": {
       "model_id": "",
       "version_major": 2,
       "version_minor": 0
      },
      "text/plain": [
       "FloatProgress(value=0.0, bar_style='info', description='Progress:', layout=Layout(height='25px', width='50%'),…"
      ]
     },
     "metadata": {},
     "output_type": "display_data"
    },
    {
     "name": "stdout",
     "output_type": "stream",
     "text": [
      "root\n",
      " |-- i94bir: integer (nullable = true)\n",
      " |-- visatype: string (nullable = true)\n",
      " |-- visitor_count: long (nullable = true)\n",
      " |-- country: string (nullable = true)\n",
      " |-- country_fk: string (nullable = true)\n",
      " |-- i94mode: string (nullable = true)\n",
      " |-- i94visa: string (nullable = true)\n",
      " |-- i94mon: integer (nullable = true)\n",
      " |-- i94res: string (nullable = true)"
     ]
    }
   ],
   "source": [
    "df_fact.printSchema()"
   ]
  },
  {
   "cell_type": "code",
   "execution_count": 9,
   "metadata": {},
   "outputs": [
    {
     "data": {
      "application/vnd.jupyter.widget-view+json": {
       "model_id": "5aceacb9300b4d82bb51ac3857188175",
       "version_major": 2,
       "version_minor": 0
      },
      "text/plain": [
       "VBox()"
      ]
     },
     "metadata": {},
     "output_type": "display_data"
    },
    {
     "data": {
      "application/vnd.jupyter.widget-view+json": {
       "model_id": "",
       "version_major": 2,
       "version_minor": 0
      },
      "text/plain": [
       "FloatProgress(value=0.0, bar_style='info', description='Progress:', layout=Layout(height='25px', width='50%'),…"
      ]
     },
     "metadata": {},
     "output_type": "display_data"
    },
    {
     "name": "stdout",
     "output_type": "stream",
     "text": [
      "+------+--------+-------------+-----------+------------+------------+--------+------+-----------+\n",
      "|i94bir|visatype|visitor_count|    country|  country_fk|     i94mode| i94visa|i94mon|     i94res|\n",
      "+------+--------+-------------+-----------+------------+------------+--------+------+-----------+\n",
      "|    56|      WT|         1091|SOUTH KOREA|Korea, South|         Air|Pleasure|     4|SOUTH KOREA|\n",
      "|    69|      WB|           20|SOUTH KOREA|Korea, South|         Air|Business|     4|SOUTH KOREA|\n",
      "|    56|      B1|           58|SOUTH KOREA|Korea, South|         Air|Business|     4|SOUTH KOREA|\n",
      "|    78|     GMT|           20|SOUTH KOREA|Korea, South|         Air|Pleasure|     4|SOUTH KOREA|\n",
      "|    39|     GMT|            3|SOUTH KOREA|Korea, South|Not reported|Pleasure|     4|SOUTH KOREA|\n",
      "+------+--------+-------------+-----------+------------+------------+--------+------+-----------+\n",
      "only showing top 5 rows"
     ]
    }
   ],
   "source": [
    "df_fact.show(5)"
   ]
  },
  {
   "cell_type": "code",
   "execution_count": 21,
   "metadata": {},
   "outputs": [
    {
     "data": {
      "application/vnd.jupyter.widget-view+json": {
       "model_id": "5016bcf8580045ba8131974fafc750a3",
       "version_major": 2,
       "version_minor": 0
      },
      "text/plain": [
       "VBox()"
      ]
     },
     "metadata": {},
     "output_type": "display_data"
    },
    {
     "data": {
      "application/vnd.jupyter.widget-view+json": {
       "model_id": "",
       "version_major": 2,
       "version_minor": 0
      },
      "text/plain": [
       "FloatProgress(value=0.0, bar_style='info', description='Progress:', layout=Layout(height='25px', width='50%'),…"
      ]
     },
     "metadata": {},
     "output_type": "display_data"
    }
   ],
   "source": [
    "df_analysis = df_fact.filter(~df_fact.i94res.contains('MEXICO')) \\\n",
    "                     .groupBy('i94res') \\\n",
    "                     .sum('visitor_count') \\\n",
    "                     .orderBy(F.desc('sum(visitor_count)'))"
   ]
  },
  {
   "cell_type": "code",
   "execution_count": 22,
   "metadata": {},
   "outputs": [
    {
     "data": {
      "application/vnd.jupyter.widget-view+json": {
       "model_id": "5aa27733c526494980acacc52c6eeb05",
       "version_major": 2,
       "version_minor": 0
      },
      "text/plain": [
       "VBox()"
      ]
     },
     "metadata": {},
     "output_type": "display_data"
    },
    {
     "data": {
      "application/vnd.jupyter.widget-view+json": {
       "model_id": "",
       "version_major": 2,
       "version_minor": 0
      },
      "text/plain": [
       "FloatProgress(value=0.0, bar_style='info', description='Progress:', layout=Layout(height='25px', width='50%'),…"
      ]
     },
     "metadata": {},
     "output_type": "display_data"
    },
    {
     "name": "stdout",
     "output_type": "stream",
     "text": [
      "+--------------+------------------+\n",
      "|        i94res|sum(visitor_count)|\n",
      "+--------------+------------------+\n",
      "|UNITED KINGDOM|           4587092|\n",
      "|         JAPAN|           3603786|\n",
      "|    CHINA, PRC|           3049942|\n",
      "|       GERMANY|           2046288|\n",
      "|   SOUTH KOREA|           1982516|\n",
      "|        BRAZIL|           1725479|\n",
      "|        FRANCE|           1641152|\n",
      "|     AUSTRALIA|           1350508|\n",
      "|         INDIA|           1206771|\n",
      "|         ITALY|            988860|\n",
      "|     ARGENTINA|            926321|\n",
      "|      COLOMBIA|            852618|\n",
      "|         SPAIN|            807447|\n",
      "|   NETHERLANDS|            674544|\n",
      "|     VENEZUELA|            589848|\n",
      "|        SWEDEN|            560581|\n",
      "|   SWITZERLAND|            471070|\n",
      "|        TAIWAN|            466267|\n",
      "|       IRELAND|            443005|\n",
      "|        ISRAEL|            425085|\n",
      "+--------------+------------------+\n",
      "only showing top 20 rows"
     ]
    }
   ],
   "source": [
    "df_analysis.show()"
   ]
  }
 ],
 "metadata": {
  "kernelspec": {
   "display_name": "PySpark",
   "language": "",
   "name": "pysparkkernel"
  },
  "language_info": {
   "codemirror_mode": {
    "name": "python",
    "version": 2
   },
   "mimetype": "text/x-python",
   "name": "pyspark",
   "pygments_lexer": "python2"
  }
 },
 "nbformat": 4,
 "nbformat_minor": 4
}
